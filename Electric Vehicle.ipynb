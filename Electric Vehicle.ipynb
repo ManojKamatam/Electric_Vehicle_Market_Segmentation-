{
 "cells": [
  {
   "cell_type": "markdown",
   "id": "6de17aa9",
   "metadata": {},
   "source": [
    "# Electric Vehicle DataAnalysis"
   ]
  },
  {
   "cell_type": "code",
   "execution_count": 242,
   "id": "1590dc28",
   "metadata": {},
   "outputs": [],
   "source": [
    "import numpy as np\n",
    "import pandas as pd\n",
    "import seaborn as sns\n",
    "import matplotlib.pyplot as plt\n",
    "import sklearn\n",
    "from sklearn.preprocessing import LabelEncoder\n",
    "%matplotlib inline\n",
    "import warnings\n",
    "warnings.filterwarnings('ignore')"
   ]
  },
  {
   "cell_type": "code",
   "execution_count": 108,
   "id": "ae4a7c47",
   "metadata": {
    "scrolled": false
   },
   "outputs": [],
   "source": [
    "df_Original = pd.read_csv(r\"C:\\Users\\soora\\Downloads\\Electric Vehicle Dataset.csv\")\n",
    "pd.set_option('display.float_format', lambda x: '%.3f' % x)\n",
    "df = df_Original.copy()"
   ]
  },
  {
   "cell_type": "code",
   "execution_count": 109,
   "id": "2f5be872",
   "metadata": {},
   "outputs": [
    {
     "data": {
      "text/html": [
       "<div>\n",
       "<style scoped>\n",
       "    .dataframe tbody tr th:only-of-type {\n",
       "        vertical-align: middle;\n",
       "    }\n",
       "\n",
       "    .dataframe tbody tr th {\n",
       "        vertical-align: top;\n",
       "    }\n",
       "\n",
       "    .dataframe thead th {\n",
       "        text-align: right;\n",
       "    }\n",
       "</style>\n",
       "<table border=\"1\" class=\"dataframe\">\n",
       "  <thead>\n",
       "    <tr style=\"text-align: right;\">\n",
       "      <th></th>\n",
       "      <th>Unnamed:</th>\n",
       "      <th>Age</th>\n",
       "      <th>City</th>\n",
       "      <th>Profession</th>\n",
       "      <th>Marital Status</th>\n",
       "      <th>Education</th>\n",
       "      <th>No. of Family members</th>\n",
       "      <th>Annual Income</th>\n",
       "      <th>Would you prefer replacing all your vehicles to Electronic vehicles?</th>\n",
       "      <th>If Yes/Maybe what type of EV would you prefer?</th>\n",
       "      <th>Do you think Electronic Vehicles are economical?</th>\n",
       "      <th>Which brand of vehicle do you currently own?</th>\n",
       "      <th>How much money could you spend on an Electronic vehicle?</th>\n",
       "      <th>Preference for wheels in EV</th>\n",
       "      <th>Do you think Electronic vehicles will replace fuel cars in India?</th>\n",
       "    </tr>\n",
       "  </thead>\n",
       "  <tbody>\n",
       "    <tr>\n",
       "      <th>0</th>\n",
       "      <td>0</td>\n",
       "      <td>30</td>\n",
       "      <td>Nabha</td>\n",
       "      <td>None</td>\n",
       "      <td>Single</td>\n",
       "      <td>Graduate</td>\n",
       "      <td>5</td>\n",
       "      <td>1193875.647</td>\n",
       "      <td>Maybe</td>\n",
       "      <td>SUV</td>\n",
       "      <td>Yes</td>\n",
       "      <td>Hyundai</td>\n",
       "      <td>&lt;5 lakhs</td>\n",
       "      <td>2</td>\n",
       "      <td>I don't think so</td>\n",
       "    </tr>\n",
       "    <tr>\n",
       "      <th>1</th>\n",
       "      <td>1</td>\n",
       "      <td>27</td>\n",
       "      <td>Pune</td>\n",
       "      <td>None</td>\n",
       "      <td>Single</td>\n",
       "      <td>Graduate</td>\n",
       "      <td>4</td>\n",
       "      <td>1844540.398</td>\n",
       "      <td>Yes</td>\n",
       "      <td>SUV</td>\n",
       "      <td>Yes</td>\n",
       "      <td>Honda</td>\n",
       "      <td>&lt;15 lakhs</td>\n",
       "      <td>4</td>\n",
       "      <td>Yes, in &lt;20years</td>\n",
       "    </tr>\n",
       "    <tr>\n",
       "      <th>2</th>\n",
       "      <td>2</td>\n",
       "      <td>32</td>\n",
       "      <td>Kashipur</td>\n",
       "      <td>None</td>\n",
       "      <td>Single</td>\n",
       "      <td>Graduate</td>\n",
       "      <td>4</td>\n",
       "      <td>2948150.113</td>\n",
       "      <td>Yes</td>\n",
       "      <td>Hatchback</td>\n",
       "      <td>Yes</td>\n",
       "      <td>KIA</td>\n",
       "      <td>&lt;15 lakhs</td>\n",
       "      <td>4</td>\n",
       "      <td>Yes, in &lt;20years</td>\n",
       "    </tr>\n",
       "    <tr>\n",
       "      <th>3</th>\n",
       "      <td>3</td>\n",
       "      <td>55</td>\n",
       "      <td>Pune</td>\n",
       "      <td>Business</td>\n",
       "      <td>Single</td>\n",
       "      <td>Graduate</td>\n",
       "      <td>3</td>\n",
       "      <td>2832379.739</td>\n",
       "      <td>Maybe</td>\n",
       "      <td>Hatchback</td>\n",
       "      <td>No</td>\n",
       "      <td>Hyundai</td>\n",
       "      <td>&lt;5 lakhs</td>\n",
       "      <td>4</td>\n",
       "      <td>Yes, in &lt;10 years</td>\n",
       "    </tr>\n",
       "    <tr>\n",
       "      <th>4</th>\n",
       "      <td>4</td>\n",
       "      <td>26</td>\n",
       "      <td>Satara</td>\n",
       "      <td>None</td>\n",
       "      <td>Single</td>\n",
       "      <td>Graduate</td>\n",
       "      <td>4</td>\n",
       "      <td>2638750.576</td>\n",
       "      <td>Yes</td>\n",
       "      <td>Sedan</td>\n",
       "      <td>Yes</td>\n",
       "      <td>McLaren</td>\n",
       "      <td>&lt;15 lakhs</td>\n",
       "      <td>4</td>\n",
       "      <td>Yes, in &lt;20years</td>\n",
       "    </tr>\n",
       "  </tbody>\n",
       "</table>\n",
       "</div>"
      ],
      "text/plain": [
       "   Unnamed:   Age      City Profession Marital Status Education  \\\n",
       "0          0   30     Nabha       None         Single  Graduate   \n",
       "1          1   27      Pune       None         Single  Graduate   \n",
       "2          2   32  Kashipur       None         Single  Graduate   \n",
       "3          3   55      Pune   Business         Single  Graduate   \n",
       "4          4   26    Satara       None         Single  Graduate   \n",
       "\n",
       "   No. of Family members  Annual Income  \\\n",
       "0                      5    1193875.647   \n",
       "1                      4    1844540.398   \n",
       "2                      4    2948150.113   \n",
       "3                      3    2832379.739   \n",
       "4                      4    2638750.576   \n",
       "\n",
       "  Would you prefer replacing all your vehicles to Electronic vehicles?  \\\n",
       "0                                              Maybe                     \n",
       "1                                                Yes                     \n",
       "2                                                Yes                     \n",
       "3                                              Maybe                     \n",
       "4                                                Yes                     \n",
       "\n",
       "  If Yes/Maybe what type of EV would you prefer?  \\\n",
       "0                                            SUV   \n",
       "1                                            SUV   \n",
       "2                                      Hatchback   \n",
       "3                                      Hatchback   \n",
       "4                                          Sedan   \n",
       "\n",
       "  Do you think Electronic Vehicles are economical?  \\\n",
       "0                                              Yes   \n",
       "1                                              Yes   \n",
       "2                                              Yes   \n",
       "3                                               No   \n",
       "4                                              Yes   \n",
       "\n",
       "  Which brand of vehicle do you currently own?  \\\n",
       "0                                      Hyundai   \n",
       "1                                        Honda   \n",
       "2                                          KIA   \n",
       "3                                      Hyundai   \n",
       "4                                      McLaren   \n",
       "\n",
       "  How much money could you spend on an Electronic vehicle?  \\\n",
       "0                                           <5 lakhs         \n",
       "1                                          <15 lakhs         \n",
       "2                                          <15 lakhs         \n",
       "3                                           <5 lakhs         \n",
       "4                                          <15 lakhs         \n",
       "\n",
       "   Preference for wheels in EV  \\\n",
       "0                            2   \n",
       "1                            4   \n",
       "2                            4   \n",
       "3                            4   \n",
       "4                            4   \n",
       "\n",
       "  Do you think Electronic vehicles will replace fuel cars in India?  \n",
       "0                                   I don't think so                 \n",
       "1                                   Yes, in <20years                 \n",
       "2                                   Yes, in <20years                 \n",
       "3                                  Yes, in <10 years                 \n",
       "4                                   Yes, in <20years                 "
      ]
     },
     "execution_count": 109,
     "metadata": {},
     "output_type": "execute_result"
    }
   ],
   "source": [
    "df.head()"
   ]
  },
  {
   "cell_type": "code",
   "execution_count": 110,
   "id": "74581047",
   "metadata": {},
   "outputs": [
    {
     "data": {
      "text/html": [
       "<div>\n",
       "<style scoped>\n",
       "    .dataframe tbody tr th:only-of-type {\n",
       "        vertical-align: middle;\n",
       "    }\n",
       "\n",
       "    .dataframe tbody tr th {\n",
       "        vertical-align: top;\n",
       "    }\n",
       "\n",
       "    .dataframe thead th {\n",
       "        text-align: right;\n",
       "    }\n",
       "</style>\n",
       "<table border=\"1\" class=\"dataframe\">\n",
       "  <thead>\n",
       "    <tr style=\"text-align: right;\">\n",
       "      <th></th>\n",
       "      <th>Unnamed:</th>\n",
       "      <th>Age</th>\n",
       "      <th>City</th>\n",
       "      <th>Profession</th>\n",
       "      <th>Marital Status</th>\n",
       "      <th>Education</th>\n",
       "      <th>No. of Family members</th>\n",
       "      <th>Annual Income</th>\n",
       "      <th>Would you prefer replacing all your vehicles to Electronic vehicles?</th>\n",
       "      <th>If Yes/Maybe what type of EV would you prefer?</th>\n",
       "      <th>Do you think Electronic Vehicles are economical?</th>\n",
       "      <th>Which brand of vehicle do you currently own?</th>\n",
       "      <th>How much money could you spend on an Electronic vehicle?</th>\n",
       "      <th>Preference for wheels in EV</th>\n",
       "      <th>Do you think Electronic vehicles will replace fuel cars in India?</th>\n",
       "    </tr>\n",
       "  </thead>\n",
       "  <tbody>\n",
       "    <tr>\n",
       "      <th>995</th>\n",
       "      <td>995</td>\n",
       "      <td>31</td>\n",
       "      <td>Pune</td>\n",
       "      <td>None</td>\n",
       "      <td>Married</td>\n",
       "      <td>Graduate</td>\n",
       "      <td>7</td>\n",
       "      <td>2110722.120</td>\n",
       "      <td>Yes</td>\n",
       "      <td>SUV</td>\n",
       "      <td>Yes</td>\n",
       "      <td>KIA</td>\n",
       "      <td>&lt;25 lakhs</td>\n",
       "      <td>4</td>\n",
       "      <td>Yes, in &lt;10 years</td>\n",
       "    </tr>\n",
       "    <tr>\n",
       "      <th>996</th>\n",
       "      <td>996</td>\n",
       "      <td>29</td>\n",
       "      <td>Pune</td>\n",
       "      <td>None</td>\n",
       "      <td>Married</td>\n",
       "      <td>Post Graduate</td>\n",
       "      <td>4</td>\n",
       "      <td>1616287.706</td>\n",
       "      <td>No</td>\n",
       "      <td>SUV</td>\n",
       "      <td>Yes</td>\n",
       "      <td>KIA</td>\n",
       "      <td>&lt;5 lakhs</td>\n",
       "      <td>4</td>\n",
       "      <td>Yes, in &lt;20years</td>\n",
       "    </tr>\n",
       "    <tr>\n",
       "      <th>997</th>\n",
       "      <td>997</td>\n",
       "      <td>30</td>\n",
       "      <td>Mumbai</td>\n",
       "      <td>Business</td>\n",
       "      <td>Single</td>\n",
       "      <td>Graduate</td>\n",
       "      <td>4</td>\n",
       "      <td>2202829.029</td>\n",
       "      <td>Yes</td>\n",
       "      <td>SUV</td>\n",
       "      <td>Yes</td>\n",
       "      <td>Honda</td>\n",
       "      <td>&lt;15 lakhs</td>\n",
       "      <td>4</td>\n",
       "      <td>Yes, in &lt;20years</td>\n",
       "    </tr>\n",
       "    <tr>\n",
       "      <th>998</th>\n",
       "      <td>998</td>\n",
       "      <td>24</td>\n",
       "      <td>Ahmedabad</td>\n",
       "      <td>None</td>\n",
       "      <td>Married</td>\n",
       "      <td>Graduate</td>\n",
       "      <td>4</td>\n",
       "      <td>1764744.068</td>\n",
       "      <td>Yes</td>\n",
       "      <td>SUV</td>\n",
       "      <td>Yes</td>\n",
       "      <td>Maruti</td>\n",
       "      <td>&lt;15 lakhs</td>\n",
       "      <td>4</td>\n",
       "      <td>Yes, in &lt;20years</td>\n",
       "    </tr>\n",
       "    <tr>\n",
       "      <th>999</th>\n",
       "      <td>999</td>\n",
       "      <td>30</td>\n",
       "      <td>Pune</td>\n",
       "      <td>Business</td>\n",
       "      <td>Single</td>\n",
       "      <td>Graduate</td>\n",
       "      <td>4</td>\n",
       "      <td>2486664.468</td>\n",
       "      <td>No</td>\n",
       "      <td>Liftback</td>\n",
       "      <td>Yes</td>\n",
       "      <td>Maruti</td>\n",
       "      <td>&lt;5 lakhs</td>\n",
       "      <td>4</td>\n",
       "      <td>Yes, in &lt;10 years</td>\n",
       "    </tr>\n",
       "  </tbody>\n",
       "</table>\n",
       "</div>"
      ],
      "text/plain": [
       "     Unnamed:   Age       City Profession Marital Status      Education  \\\n",
       "995        995   31       Pune       None        Married       Graduate   \n",
       "996        996   29       Pune       None        Married  Post Graduate   \n",
       "997        997   30     Mumbai   Business         Single       Graduate   \n",
       "998        998   24  Ahmedabad       None        Married       Graduate   \n",
       "999        999   30       Pune   Business         Single       Graduate   \n",
       "\n",
       "     No. of Family members  Annual Income  \\\n",
       "995                      7    2110722.120   \n",
       "996                      4    1616287.706   \n",
       "997                      4    2202829.029   \n",
       "998                      4    1764744.068   \n",
       "999                      4    2486664.468   \n",
       "\n",
       "    Would you prefer replacing all your vehicles to Electronic vehicles?  \\\n",
       "995                                                Yes                     \n",
       "996                                                 No                     \n",
       "997                                                Yes                     \n",
       "998                                                Yes                     \n",
       "999                                                 No                     \n",
       "\n",
       "    If Yes/Maybe what type of EV would you prefer?  \\\n",
       "995                                            SUV   \n",
       "996                                            SUV   \n",
       "997                                            SUV   \n",
       "998                                            SUV   \n",
       "999                                       Liftback   \n",
       "\n",
       "    Do you think Electronic Vehicles are economical?  \\\n",
       "995                                              Yes   \n",
       "996                                              Yes   \n",
       "997                                              Yes   \n",
       "998                                              Yes   \n",
       "999                                              Yes   \n",
       "\n",
       "    Which brand of vehicle do you currently own?  \\\n",
       "995                                          KIA   \n",
       "996                                          KIA   \n",
       "997                                        Honda   \n",
       "998                                       Maruti   \n",
       "999                                       Maruti   \n",
       "\n",
       "    How much money could you spend on an Electronic vehicle?  \\\n",
       "995                                          <25 lakhs         \n",
       "996                                           <5 lakhs         \n",
       "997                                          <15 lakhs         \n",
       "998                                          <15 lakhs         \n",
       "999                                           <5 lakhs         \n",
       "\n",
       "     Preference for wheels in EV  \\\n",
       "995                            4   \n",
       "996                            4   \n",
       "997                            4   \n",
       "998                            4   \n",
       "999                            4   \n",
       "\n",
       "    Do you think Electronic vehicles will replace fuel cars in India?  \n",
       "995                                  Yes, in <10 years                 \n",
       "996                                   Yes, in <20years                 \n",
       "997                                   Yes, in <20years                 \n",
       "998                                   Yes, in <20years                 \n",
       "999                                  Yes, in <10 years                 "
      ]
     },
     "execution_count": 110,
     "metadata": {},
     "output_type": "execute_result"
    }
   ],
   "source": [
    "df.tail()"
   ]
  },
  {
   "cell_type": "markdown",
   "id": "cc080b07",
   "metadata": {},
   "source": [
    "#### Data Processing"
   ]
  },
  {
   "cell_type": "code",
   "execution_count": 111,
   "id": "fcd67807",
   "metadata": {
    "scrolled": true
   },
   "outputs": [
    {
     "data": {
      "text/plain": [
       "Unnamed:                                                                0\n",
       "Age                                                                     0\n",
       "City                                                                    0\n",
       "Profession                                                              0\n",
       "Marital Status                                                          0\n",
       "Education                                                               0\n",
       "No. of Family members                                                   0\n",
       "Annual Income                                                           0\n",
       "Would you prefer replacing all your vehicles to Electronic vehicles?    0\n",
       "If Yes/Maybe what type of EV would you prefer?                          0\n",
       "Do you think Electronic Vehicles are economical?                        0\n",
       "Which brand of vehicle do you currently own?                            0\n",
       "How much money could you spend on an Electronic vehicle?                0\n",
       "Preference for wheels in EV                                             0\n",
       "Do you think Electronic vehicles will replace fuel cars in India?       0\n",
       "dtype: int64"
      ]
     },
     "execution_count": 111,
     "metadata": {},
     "output_type": "execute_result"
    }
   ],
   "source": [
    "df.isnull().sum()"
   ]
  },
  {
   "cell_type": "code",
   "execution_count": 112,
   "id": "63aa7dcc",
   "metadata": {},
   "outputs": [
    {
     "data": {
      "text/plain": [
       "Index(['Unnamed: ', 'Age', 'City', 'Profession', 'Marital Status', 'Education',\n",
       "       'No. of Family members', 'Annual Income',\n",
       "       'Would you prefer replacing all your vehicles to Electronic vehicles?',\n",
       "       'If Yes/Maybe what type of EV would you prefer?',\n",
       "       'Do you think Electronic Vehicles are economical?',\n",
       "       'Which brand of vehicle do you currently own?',\n",
       "       'How much money could you spend on an Electronic vehicle?',\n",
       "       'Preference for wheels in EV',\n",
       "       'Do you think Electronic vehicles will replace fuel cars in India?'],\n",
       "      dtype='object')"
      ]
     },
     "execution_count": 112,
     "metadata": {},
     "output_type": "execute_result"
    }
   ],
   "source": [
    "df.columns"
   ]
  },
  {
   "cell_type": "code",
   "execution_count": 113,
   "id": "2fe4756e",
   "metadata": {},
   "outputs": [
    {
     "data": {
      "text/plain": [
       "(1000, 15)"
      ]
     },
     "execution_count": 113,
     "metadata": {},
     "output_type": "execute_result"
    }
   ],
   "source": [
    "df.shape"
   ]
  },
  {
   "cell_type": "code",
   "execution_count": 114,
   "id": "27655036",
   "metadata": {},
   "outputs": [
    {
     "data": {
      "text/plain": [
       "0      False\n",
       "1      False\n",
       "2      False\n",
       "3      False\n",
       "4      False\n",
       "       ...  \n",
       "995    False\n",
       "996    False\n",
       "997    False\n",
       "998    False\n",
       "999    False\n",
       "Length: 1000, dtype: bool"
      ]
     },
     "execution_count": 114,
     "metadata": {},
     "output_type": "execute_result"
    }
   ],
   "source": [
    "df.duplicated()"
   ]
  },
  {
   "cell_type": "code",
   "execution_count": 115,
   "id": "cde6b4cb",
   "metadata": {},
   "outputs": [
    {
     "data": {
      "text/html": [
       "<div>\n",
       "<style scoped>\n",
       "    .dataframe tbody tr th:only-of-type {\n",
       "        vertical-align: middle;\n",
       "    }\n",
       "\n",
       "    .dataframe tbody tr th {\n",
       "        vertical-align: top;\n",
       "    }\n",
       "\n",
       "    .dataframe thead th {\n",
       "        text-align: right;\n",
       "    }\n",
       "</style>\n",
       "<table border=\"1\" class=\"dataframe\">\n",
       "  <thead>\n",
       "    <tr style=\"text-align: right;\">\n",
       "      <th></th>\n",
       "      <th>Unnamed:</th>\n",
       "      <th>Age</th>\n",
       "      <th>No. of Family members</th>\n",
       "      <th>Annual Income</th>\n",
       "      <th>Preference for wheels in EV</th>\n",
       "    </tr>\n",
       "  </thead>\n",
       "  <tbody>\n",
       "    <tr>\n",
       "      <th>Unnamed:</th>\n",
       "      <td>1.000</td>\n",
       "      <td>-0.004</td>\n",
       "      <td>0.009</td>\n",
       "      <td>-0.011</td>\n",
       "      <td>-0.023</td>\n",
       "    </tr>\n",
       "    <tr>\n",
       "      <th>Age</th>\n",
       "      <td>-0.004</td>\n",
       "      <td>1.000</td>\n",
       "      <td>0.024</td>\n",
       "      <td>-0.012</td>\n",
       "      <td>0.028</td>\n",
       "    </tr>\n",
       "    <tr>\n",
       "      <th>No. of Family members</th>\n",
       "      <td>0.009</td>\n",
       "      <td>0.024</td>\n",
       "      <td>1.000</td>\n",
       "      <td>0.028</td>\n",
       "      <td>-0.021</td>\n",
       "    </tr>\n",
       "    <tr>\n",
       "      <th>Annual Income</th>\n",
       "      <td>-0.011</td>\n",
       "      <td>-0.012</td>\n",
       "      <td>0.028</td>\n",
       "      <td>1.000</td>\n",
       "      <td>-0.023</td>\n",
       "    </tr>\n",
       "    <tr>\n",
       "      <th>Preference for wheels in EV</th>\n",
       "      <td>-0.023</td>\n",
       "      <td>0.028</td>\n",
       "      <td>-0.021</td>\n",
       "      <td>-0.023</td>\n",
       "      <td>1.000</td>\n",
       "    </tr>\n",
       "  </tbody>\n",
       "</table>\n",
       "</div>"
      ],
      "text/plain": [
       "                             Unnamed:     Age  No. of Family members  \\\n",
       "Unnamed:                         1.000 -0.004                  0.009   \n",
       "Age                             -0.004  1.000                  0.024   \n",
       "No. of Family members            0.009  0.024                  1.000   \n",
       "Annual Income                   -0.011 -0.012                  0.028   \n",
       "Preference for wheels in EV     -0.023  0.028                 -0.021   \n",
       "\n",
       "                             Annual Income  Preference for wheels in EV  \n",
       "Unnamed:                            -0.011                       -0.023  \n",
       "Age                                 -0.012                        0.028  \n",
       "No. of Family members                0.028                       -0.021  \n",
       "Annual Income                        1.000                       -0.023  \n",
       "Preference for wheels in EV         -0.023                        1.000  "
      ]
     },
     "execution_count": 115,
     "metadata": {},
     "output_type": "execute_result"
    }
   ],
   "source": [
    "df.corr()"
   ]
  },
  {
   "cell_type": "code",
   "execution_count": 116,
   "id": "a5bfea1d",
   "metadata": {},
   "outputs": [
    {
     "name": "stdout",
     "output_type": "stream",
     "text": [
      "<class 'pandas.core.frame.DataFrame'>\n",
      "RangeIndex: 1000 entries, 0 to 999\n",
      "Data columns (total 15 columns):\n",
      " #   Column                                                                Non-Null Count  Dtype  \n",
      "---  ------                                                                --------------  -----  \n",
      " 0   Unnamed:                                                              1000 non-null   int64  \n",
      " 1   Age                                                                   1000 non-null   int64  \n",
      " 2   City                                                                  1000 non-null   object \n",
      " 3   Profession                                                            1000 non-null   object \n",
      " 4   Marital Status                                                        1000 non-null   object \n",
      " 5   Education                                                             1000 non-null   object \n",
      " 6   No. of Family members                                                 1000 non-null   int64  \n",
      " 7   Annual Income                                                         1000 non-null   float64\n",
      " 8   Would you prefer replacing all your vehicles to Electronic vehicles?  1000 non-null   object \n",
      " 9   If Yes/Maybe what type of EV would you prefer?                        1000 non-null   object \n",
      " 10  Do you think Electronic Vehicles are economical?                      1000 non-null   object \n",
      " 11  Which brand of vehicle do you currently own?                          1000 non-null   object \n",
      " 12  How much money could you spend on an Electronic vehicle?              1000 non-null   object \n",
      " 13  Preference for wheels in EV                                           1000 non-null   int64  \n",
      " 14  Do you think Electronic vehicles will replace fuel cars in India?     1000 non-null   object \n",
      "dtypes: float64(1), int64(4), object(10)\n",
      "memory usage: 117.3+ KB\n"
     ]
    }
   ],
   "source": [
    "df.info()"
   ]
  },
  {
   "cell_type": "code",
   "execution_count": 117,
   "id": "3db805c0",
   "metadata": {},
   "outputs": [
    {
     "data": {
      "text/plain": [
       "array([ 30,  27,  32,  55,  26,  28,  23,  25,  43,  59,  21,  29,  56,\n",
       "        70,  50,  24,  61,  39,  31,  40,  18,  58,  22,  96,  64,  52,\n",
       "        54,  42,  49,  57,  46,  36,  20,  19,  65,  17,  60,  44,  45,\n",
       "        47,  82,  33,  37,  48,  69,  67,  86,  62,  66,  34,  63,  41,\n",
       "        68,  16,  53,  15, 118,  38], dtype=int64)"
      ]
     },
     "execution_count": 117,
     "metadata": {},
     "output_type": "execute_result"
    }
   ],
   "source": [
    "df['Age'].unique()"
   ]
  },
  {
   "cell_type": "code",
   "execution_count": 118,
   "id": "6a50df9c",
   "metadata": {},
   "outputs": [
    {
     "data": {
      "text/plain": [
       "array(['Nabha', 'Pune', 'Kashipur', 'Satara', 'Noida', 'Delhi', 'Mumbai',\n",
       "       'pune', 'solapur', 'Haldwani', 'Nellore', 'Banglore', 'Faridabad',\n",
       "       'Nagpur', 'Chandrapur', 'Chennai', 'Gurugram', 'Nashik',\n",
       "       'Bengaluru', 'Hakdwani', 'Patiyala', 'pUNE', 'Ahmedabad', 'Karnal',\n",
       "       'Rewari', 'New Delhi', 'Serampore', 'Jhansi', 'Jalandhar',\n",
       "       'nashik'], dtype=object)"
      ]
     },
     "execution_count": 118,
     "metadata": {},
     "output_type": "execute_result"
    }
   ],
   "source": [
    "df['City'].unique()"
   ]
  },
  {
   "cell_type": "code",
   "execution_count": 85,
   "id": "b527655f",
   "metadata": {
    "scrolled": true
   },
   "outputs": [],
   "source": [
    "df[\"City\"] = df[\"City\"].replace({\"Pune\":\"Pune\", \"pUNE\": \"Pune\", \"pune\": \"Pune\", \"Pune \": \"Pune\"})\n",
    "df[\"City\"] = df[\"City\"].replace({\"Mumbai \":\"Mumbai\", \"Mumbai\": \"Mumbai\"})\n",
    "df[\"City\"] = df[\"City\"].replace({\"Banglore \":\"Bengaluru\"})\n",
    "df[\"City\"] = df[\"City\"].replace({\"Delhi\":\"New Delhi\", \"Delhi \": \"New Delhi\", \"New Delhi \": \"New Delhi\"})\n",
    "df[\"City\"] = df[\"City\"].replace({\"Hakdwani\":\"Haldwani\", \"Haldwani \": \"Haldwani\"})\n",
    "df[\"City\"] = df[\"City\"].replace({\"nashik\":\"Nashik\"})\n"
   ]
  },
  {
   "cell_type": "code",
   "execution_count": 86,
   "id": "1691fe77",
   "metadata": {},
   "outputs": [
    {
     "data": {
      "text/plain": [
       "array([5, 4, 3, 2, 8, 6, 0, 1, 7], dtype=int64)"
      ]
     },
     "execution_count": 86,
     "metadata": {},
     "output_type": "execute_result"
    }
   ],
   "source": [
    "df['No. of Family members'].unique()"
   ]
  },
  {
   "cell_type": "code",
   "execution_count": 87,
   "id": "f801c6a7",
   "metadata": {},
   "outputs": [
    {
     "data": {
      "text/plain": [
       "array(['<5 lakhs', '<15 lakhs', '<25 lakhs', '700000', '>25 lakhs',\n",
       "       '2000000', '1200000', '1500000'], dtype=object)"
      ]
     },
     "execution_count": 87,
     "metadata": {},
     "output_type": "execute_result"
    }
   ],
   "source": [
    "df['How much money could you spend on an Electronic vehicle?'].unique()"
   ]
  },
  {
   "cell_type": "code",
   "execution_count": 119,
   "id": "a40b9bd6",
   "metadata": {},
   "outputs": [],
   "source": [
    "df.drop('Unnamed: ', axis=1, inplace = True)\n"
   ]
  },
  {
   "cell_type": "code",
   "execution_count": 124,
   "id": "98b2ad6c",
   "metadata": {},
   "outputs": [
    {
     "data": {
      "text/html": [
       "<div>\n",
       "<style scoped>\n",
       "    .dataframe tbody tr th:only-of-type {\n",
       "        vertical-align: middle;\n",
       "    }\n",
       "\n",
       "    .dataframe tbody tr th {\n",
       "        vertical-align: top;\n",
       "    }\n",
       "\n",
       "    .dataframe thead th {\n",
       "        text-align: right;\n",
       "    }\n",
       "</style>\n",
       "<table border=\"1\" class=\"dataframe\">\n",
       "  <thead>\n",
       "    <tr style=\"text-align: right;\">\n",
       "      <th></th>\n",
       "      <th>Age</th>\n",
       "      <th>No. of Family members</th>\n",
       "      <th>Annual Income</th>\n",
       "      <th>Preference for wheels in EV</th>\n",
       "    </tr>\n",
       "  </thead>\n",
       "  <tbody>\n",
       "    <tr>\n",
       "      <th>count</th>\n",
       "      <td>1000.000</td>\n",
       "      <td>1000.000</td>\n",
       "      <td>1000.000</td>\n",
       "      <td>1000.000</td>\n",
       "    </tr>\n",
       "    <tr>\n",
       "      <th>mean</th>\n",
       "      <td>31.800</td>\n",
       "      <td>4.118</td>\n",
       "      <td>2258341.824</td>\n",
       "      <td>3.349</td>\n",
       "    </tr>\n",
       "    <tr>\n",
       "      <th>std</th>\n",
       "      <td>11.295</td>\n",
       "      <td>1.470</td>\n",
       "      <td>999355.758</td>\n",
       "      <td>0.888</td>\n",
       "    </tr>\n",
       "    <tr>\n",
       "      <th>min</th>\n",
       "      <td>15.000</td>\n",
       "      <td>0.000</td>\n",
       "      <td>-376150.863</td>\n",
       "      <td>2.000</td>\n",
       "    </tr>\n",
       "    <tr>\n",
       "      <th>25%</th>\n",
       "      <td>26.000</td>\n",
       "      <td>4.000</td>\n",
       "      <td>1782115.520</td>\n",
       "      <td>2.000</td>\n",
       "    </tr>\n",
       "    <tr>\n",
       "      <th>50%</th>\n",
       "      <td>29.000</td>\n",
       "      <td>4.000</td>\n",
       "      <td>2329246.376</td>\n",
       "      <td>4.000</td>\n",
       "    </tr>\n",
       "    <tr>\n",
       "      <th>75%</th>\n",
       "      <td>31.000</td>\n",
       "      <td>5.000</td>\n",
       "      <td>2753169.612</td>\n",
       "      <td>4.000</td>\n",
       "    </tr>\n",
       "    <tr>\n",
       "      <th>max</th>\n",
       "      <td>118.000</td>\n",
       "      <td>8.000</td>\n",
       "      <td>12821282.030</td>\n",
       "      <td>4.000</td>\n",
       "    </tr>\n",
       "  </tbody>\n",
       "</table>\n",
       "</div>"
      ],
      "text/plain": [
       "           Age  No. of Family members  Annual Income  \\\n",
       "count 1000.000               1000.000       1000.000   \n",
       "mean    31.800                  4.118    2258341.824   \n",
       "std     11.295                  1.470     999355.758   \n",
       "min     15.000                  0.000    -376150.863   \n",
       "25%     26.000                  4.000    1782115.520   \n",
       "50%     29.000                  4.000    2329246.376   \n",
       "75%     31.000                  5.000    2753169.612   \n",
       "max    118.000                  8.000   12821282.030   \n",
       "\n",
       "       Preference for wheels in EV  \n",
       "count                     1000.000  \n",
       "mean                         3.349  \n",
       "std                          0.888  \n",
       "min                          2.000  \n",
       "25%                          2.000  \n",
       "50%                          4.000  \n",
       "75%                          4.000  \n",
       "max                          4.000  "
      ]
     },
     "execution_count": 124,
     "metadata": {},
     "output_type": "execute_result"
    }
   ],
   "source": [
    "df.describe()"
   ]
  },
  {
   "cell_type": "markdown",
   "id": "329ed2ba",
   "metadata": {},
   "source": [
    "#### Data Visualization"
   ]
  },
  {
   "cell_type": "code",
   "execution_count": 268,
   "id": "546fa170",
   "metadata": {},
   "outputs": [
    {
     "data": {
      "image/png": "[encoded data removed]",
      "text/plain": [
       "<Figure size 360x360 with 1 Axes>"
      ]
     },
     "metadata": {
      "needs_background": "light"
     },
     "output_type": "display_data"
    },
    {
     "data": {
      "image/png": "[encoded data removed]",
      "text/plain": [
       "<Figure size 360x360 with 1 Axes>"
      ]
     },
     "metadata": {
      "needs_background": "light"
     },
     "output_type": "display_data"
    },
    {
     "data": {
      "image/png": "[encoded data removed]",
      "text/plain": [
       "<Figure size 360x360 with 1 Axes>"
      ]
     },
     "metadata": {
      "needs_background": "light"
     },
     "output_type": "display_data"
    },
    {
     "data": {
      "image/png": "[encoded data removed]",
      "text/plain": [
       "<Figure size 360x360 with 1 Axes>"
      ]
     },
     "metadata": {
      "needs_background": "light"
     },
     "output_type": "display_data"
    },
    {
     "data": {
      "image/png": "[encoded data removed]",
      "text/plain": [
       "<Figure size 360x360 with 1 Axes>"
      ]
     },
     "metadata": {
      "needs_background": "light"
     },
     "output_type": "display_data"
    },
    {
     "data": {
      "image/png": "[encoded data removed]",
      "text/plain": [
       "<Figure size 360x360 with 1 Axes>"
      ]
     },
     "metadata": {
      "needs_background": "light"
     },
     "output_type": "display_data"
    },
    {
     "data": {
      "image/png": "[encoded data removed]",
      "text/plain": [
       "<Figure size 360x360 with 1 Axes>"
      ]
     },
     "metadata": {
      "needs_background": "light"
     },
     "output_type": "display_data"
    },
    {
     "data": {
      "image/png": "[encoded data removed]",
      "text/plain": [
       "<Figure size 360x360 with 1 Axes>"
      ]
     },
     "metadata": {
      "needs_background": "light"
     },
     "output_type": "display_data"
    },
    {
     "data": {
      "image/png": "[encoded data removed]",
      "text/plain": [
       "<Figure size 360x360 with 1 Axes>"
      ]
     },
     "metadata": {
      "needs_background": "light"
     },
     "output_type": "display_data"
    },
    {
     "data": {
      "image/png": "[encoded data removed]",
      "text/plain": [
       "<Figure size 360x360 with 1 Axes>"
      ]
     },
     "metadata": {
      "needs_background": "light"
     },
     "output_type": "display_data"
    },
    {
     "data": {
      "image/png": "[encoded data removed]",
      "text/plain": [
       "<Figure size 360x360 with 1 Axes>"
      ]
     },
     "metadata": {
      "needs_background": "light"
     },
     "output_type": "display_data"
    },
    {
     "data": {
      "image/png": "[encoded data removed]",
      "text/plain": [
       "<Figure size 360x360 with 1 Axes>"
      ]
     },
     "metadata": {
      "needs_background": "light"
     },
     "output_type": "display_data"
    },
    {
     "data": {
      "image/png": "[encoded data removed]",
      "text/plain": [
       "<Figure size 360x360 with 1 Axes>"
      ]
     },
     "metadata": {
      "needs_background": "light"
     },
     "output_type": "display_data"
    },
    {
     "data": {
      "image/png": "[encoded data removed]",
      "text/plain": [
       "<Figure size 360x360 with 1 Axes>"
      ]
     },
     "metadata": {
      "needs_background": "light"
     },
     "output_type": "display_data"
    },
    {
     "data": {
      "image/png": "[encoded data removed]",
      "text/plain": [
       "<Figure size 360x360 with 1 Axes>"
      ]
     },
     "metadata": {
      "needs_background": "light"
     },
     "output_type": "display_data"
    },
    {
     "data": {
      "image/png": "[encoded data removed]",
      "text/plain": [
       "<Figure size 360x360 with 1 Axes>"
      ]
     },
     "metadata": {
      "needs_background": "light"
     },
     "output_type": "display_data"
    }
   ],
   "source": [
    "for col in df.columns:\n",
    "    ax= sns.displot(df[col])\n",
    "    ax.set_xticklabels(rotation=90)  "
   ]
  },
  {
   "cell_type": "markdown",
   "id": "21a20c22",
   "metadata": {},
   "source": [
    "#Most people prefer 4 wheels vehicle.\n",
    "\n",
    "#Most people believe Electronic vehicle will replace fuel cars in India in less than 20 years."
   ]
  },
  {
   "cell_type": "code",
   "execution_count": 122,
   "id": "f8b1fa75",
   "metadata": {},
   "outputs": [
    {
     "data": {
      "image/png": "[encoded data removed]",
      "text/plain": [
       "<Figure size 432x288 with 1 Axes>"
      ]
     },
     "metadata": {
      "needs_background": "light"
     },
     "output_type": "display_data"
    }
   ],
   "source": [
    "sns.countplot(x ='Education', hue = 'Would you prefer replacing all your vehicles to Electronic vehicles?',  data = df, palette = 'Set2')\n",
    "plt.legend(bbox_to_anchor=(1, 0.5))\n",
    "plt.show()"
   ]
  },
  {
   "cell_type": "code",
   "execution_count": 123,
   "id": "884babf2",
   "metadata": {},
   "outputs": [
    {
     "data": {
      "image/png": "[encoded data removed]",
      "text/plain": [
       "<Figure size 432x288 with 1 Axes>"
      ]
     },
     "metadata": {
      "needs_background": "light"
     },
     "output_type": "display_data"
    }
   ],
   "source": [
    "sns.countplot(x ='Marital Status', hue = 'How much money could you spend on an Electronic vehicle?',  data = df, palette = 'Set3')\n",
    "plt.legend(loc='center right')\n",
    "plt.show()"
   ]
  },
  {
   "cell_type": "code",
   "execution_count": 125,
   "id": "53407133",
   "metadata": {},
   "outputs": [
    {
     "data": {
      "text/plain": [
       "<matplotlib.collections.PathCollection at 0x23f240774f0>"
      ]
     },
     "execution_count": 125,
     "metadata": {},
     "output_type": "execute_result"
    },
    {
     "data": {
      "image/png": "[encoded data removed]",
      "text/plain": [
       "<Figure size 432x288 with 1 Axes>"
      ]
     },
     "metadata": {
      "needs_background": "light"
     },
     "output_type": "display_data"
    }
   ],
   "source": [
    "plt.xlabel('Age')\n",
    "plt.ylabel('Annual Income')\n",
    "plt.scatter(df['Age'],df['Annual Income'])"
   ]
  },
  {
   "cell_type": "code",
   "execution_count": 126,
   "id": "a9ab210f",
   "metadata": {},
   "outputs": [
    {
     "data": {
      "text/plain": [
       "<AxesSubplot:xlabel='Age', ylabel='count'>"
      ]
     },
     "execution_count": 126,
     "metadata": {},
     "output_type": "execute_result"
    },
    {
     "data": {
      "image/png": "[encoded data removed]",
      "text/plain": [
       "<Figure size 1440x432 with 1 Axes>"
      ]
     },
     "metadata": {
      "needs_background": "light"
     },
     "output_type": "display_data"
    }
   ],
   "source": [
    "plt.figure(figsize=(20,6))\n",
    "sns.countplot(x=\"Age\", data=df, hue=\"Education\")"
   ]
  },
  {
   "cell_type": "code",
   "execution_count": 127,
   "id": "cc407957",
   "metadata": {},
   "outputs": [
    {
     "data": {
      "text/plain": [
       "<matplotlib.collections.PathCollection at 0x23f269c0fd0>"
      ]
     },
     "execution_count": 127,
     "metadata": {},
     "output_type": "execute_result"
    },
    {
     "data": {
      "image/png": "[encoded data removed]",
      "text/plain": [
       "<Figure size 432x288 with 1 Axes>"
      ]
     },
     "metadata": {
      "needs_background": "light"
     },
     "output_type": "display_data"
    }
   ],
   "source": [
    "plt.xlabel('Profession')\n",
    "plt.ylabel('Which brand of vehicle do you currently own? ')\n",
    "plt.scatter(df['Profession'],df['Which brand of vehicle do you currently own?'])\n"
   ]
  },
  {
   "cell_type": "code",
   "execution_count": 128,
   "id": "4736068d",
   "metadata": {},
   "outputs": [
    {
     "data": {
      "text/plain": [
       "<AxesSubplot:xlabel='Which brand of vehicle do you currently own?', ylabel='count'>"
      ]
     },
     "execution_count": 128,
     "metadata": {},
     "output_type": "execute_result"
    },
    {
     "data": {
      "image/png": "[encoded data removed]",
      "text/plain": [
       "<Figure size 1440x432 with 1 Axes>"
      ]
     },
     "metadata": {
      "needs_background": "light"
     },
     "output_type": "display_data"
    }
   ],
   "source": [
    "plt.figure(figsize=(20,6))\n",
    "sns.countplot(x=\"Which brand of vehicle do you currently own?\", data=df, hue=\"Education\")"
   ]
  },
  {
   "cell_type": "code",
   "execution_count": 129,
   "id": "0f5fbfcf",
   "metadata": {},
   "outputs": [
    {
     "data": {
      "text/plain": [
       "<matplotlib.collections.PathCollection at 0x23f26ad4430>"
      ]
     },
     "execution_count": 129,
     "metadata": {},
     "output_type": "execute_result"
    },
    {
     "data": {
      "image/png": "[encoded data removed]",
      "text/plain": [
       "<Figure size 432x288 with 1 Axes>"
      ]
     },
     "metadata": {
      "needs_background": "light"
     },
     "output_type": "display_data"
    }
   ],
   "source": [
    "plt.xlabel('Age')\n",
    "plt.ylabel('Preference for wheels in EV')\n",
    "plt.scatter(df['Age'],df['Preference for wheels in EV'])"
   ]
  },
  {
   "cell_type": "code",
   "execution_count": 130,
   "id": "9f4ec502",
   "metadata": {},
   "outputs": [
    {
     "data": {
      "text/plain": [
       "<AxesSubplot:>"
      ]
     },
     "execution_count": 130,
     "metadata": {},
     "output_type": "execute_result"
    },
    {
     "data": {
      "image/png": "[encoded data removed]",
      "text/plain": [
       "<Figure size 432x288 with 2 Axes>"
      ]
     },
     "metadata": {
      "needs_background": "light"
     },
     "output_type": "display_data"
    }
   ],
   "source": [
    "# Heatmap of Correlation\n",
    "sns.heatmap(df.corr(), annot=True)"
   ]
  },
  {
   "cell_type": "code",
   "execution_count": 131,
   "id": "7e287b81",
   "metadata": {},
   "outputs": [
    {
     "data": {
      "text/plain": [
       "<seaborn.axisgrid.PairGrid at 0x23f26badf10>"
      ]
     },
     "execution_count": 131,
     "metadata": {},
     "output_type": "execute_result"
    },
    {
     "data": {
      "image/png": "[encoded data removed]",
      "text/plain": [
       "<Figure size 720x720 with 20 Axes>"
      ]
     },
     "metadata": {
      "needs_background": "light"
     },
     "output_type": "display_data"
    }
   ],
   "source": [
    "sns.pairplot(df)"
   ]
  },
  {
   "cell_type": "code",
   "execution_count": 133,
   "id": "449e7374",
   "metadata": {},
   "outputs": [],
   "source": [
    "def label_encode(data,column):\n",
    "        label_encoder=LabelEncoder()\n",
    "        return label_encoder.fit_transform(data[column].astype(str))\n"
   ]
  },
  {
   "cell_type": "code",
   "execution_count": 136,
   "id": "fd7c088f",
   "metadata": {},
   "outputs": [
    {
     "data": {
      "text/plain": [
       "Index(['Age', 'City', 'Profession', 'Marital Status', 'Education',\n",
       "       'No. of Family members', 'Annual Income',\n",
       "       'Would you prefer replacing all your vehicles to Electronic vehicles?',\n",
       "       'If Yes/Maybe what type of EV would you prefer?',\n",
       "       'Do you think Electronic Vehicles are economical?',\n",
       "       'Which brand of vehicle do you currently own?',\n",
       "       'How much money could you spend on an Electronic vehicle?',\n",
       "       'Preference for wheels in EV',\n",
       "       'Do you think Electronic vehicles will replace fuel cars in India?'],\n",
       "      dtype='object')"
      ]
     },
     "execution_count": 136,
     "metadata": {},
     "output_type": "execute_result"
    }
   ],
   "source": [
    "df.columns"
   ]
  },
  {
   "cell_type": "code",
   "execution_count": 139,
   "id": "12d21cdc",
   "metadata": {},
   "outputs": [],
   "source": [
    "df['City']= label_encode(df,'City')\n",
    "df['Profession']= label_encode(df,'Profession')\n",
    "df['Marital Status']= label_encode(df,'Marital Status')\n",
    "df['Education']= label_encode(df,'Education')\n",
    "df['Would you prefer replacing all your vehicles to Electronic vehicles?']= label_encode(df,'Would you prefer replacing all your vehicles to Electronic vehicles?')\n",
    "df['If Yes/Maybe what type of EV would you prefer?']= label_encode(df,'If Yes/Maybe what type of EV would you prefer?')\n",
    "df['Do you think Electronic Vehicles are economical?']= label_encode(df,'Do you think Electronic Vehicles are economical?')\n",
    "df['Which brand of vehicle do you currently own?']= label_encode(df,'Which brand of vehicle do you currently own?')\n",
    "df['Do you think Electronic vehicles will replace fuel cars in India?']= label_encode(df,'Do you think Electronic vehicles will replace fuel cars in India?')\n",
    "df['How much money could you spend on an Electronic vehicle?']= label_encode(df,'How much money could you spend on an Electronic vehicle?')"
   ]
  },
  {
   "cell_type": "code",
   "execution_count": 140,
   "id": "74423747",
   "metadata": {},
   "outputs": [
    {
     "data": {
      "text/html": [
       "<div>\n",
       "<style scoped>\n",
       "    .dataframe tbody tr th:only-of-type {\n",
       "        vertical-align: middle;\n",
       "    }\n",
       "\n",
       "    .dataframe tbody tr th {\n",
       "        vertical-align: top;\n",
       "    }\n",
       "\n",
       "    .dataframe thead th {\n",
       "        text-align: right;\n",
       "    }\n",
       "</style>\n",
       "<table border=\"1\" class=\"dataframe\">\n",
       "  <thead>\n",
       "    <tr style=\"text-align: right;\">\n",
       "      <th></th>\n",
       "      <th>Age</th>\n",
       "      <th>City</th>\n",
       "      <th>Profession</th>\n",
       "      <th>Marital Status</th>\n",
       "      <th>Education</th>\n",
       "      <th>No. of Family members</th>\n",
       "      <th>Annual Income</th>\n",
       "      <th>Would you prefer replacing all your vehicles to Electronic vehicles?</th>\n",
       "      <th>If Yes/Maybe what type of EV would you prefer?</th>\n",
       "      <th>Do you think Electronic Vehicles are economical?</th>\n",
       "      <th>Which brand of vehicle do you currently own?</th>\n",
       "      <th>How much money could you spend on an Electronic vehicle?</th>\n",
       "      <th>Preference for wheels in EV</th>\n",
       "      <th>Do you think Electronic vehicles will replace fuel cars in India?</th>\n",
       "      <th>If Yes/Maybe what type of  EV would you prefer?</th>\n",
       "    </tr>\n",
       "  </thead>\n",
       "  <tbody>\n",
       "    <tr>\n",
       "      <th>0</th>\n",
       "      <td>30</td>\n",
       "      <td>27</td>\n",
       "      <td>1</td>\n",
       "      <td>1</td>\n",
       "      <td>0</td>\n",
       "      <td>5</td>\n",
       "      <td>1193875.647</td>\n",
       "      <td>0</td>\n",
       "      <td>3</td>\n",
       "      <td>2</td>\n",
       "      <td>9</td>\n",
       "      <td>6</td>\n",
       "      <td>2</td>\n",
       "      <td>0</td>\n",
       "      <td>3</td>\n",
       "    </tr>\n",
       "    <tr>\n",
       "      <th>1</th>\n",
       "      <td>27</td>\n",
       "      <td>7</td>\n",
       "      <td>1</td>\n",
       "      <td>1</td>\n",
       "      <td>0</td>\n",
       "      <td>4</td>\n",
       "      <td>1844540.398</td>\n",
       "      <td>2</td>\n",
       "      <td>3</td>\n",
       "      <td>2</td>\n",
       "      <td>8</td>\n",
       "      <td>4</td>\n",
       "      <td>4</td>\n",
       "      <td>2</td>\n",
       "      <td>3</td>\n",
       "    </tr>\n",
       "    <tr>\n",
       "      <th>2</th>\n",
       "      <td>32</td>\n",
       "      <td>25</td>\n",
       "      <td>1</td>\n",
       "      <td>1</td>\n",
       "      <td>0</td>\n",
       "      <td>4</td>\n",
       "      <td>2948150.113</td>\n",
       "      <td>2</td>\n",
       "      <td>1</td>\n",
       "      <td>2</td>\n",
       "      <td>10</td>\n",
       "      <td>4</td>\n",
       "      <td>4</td>\n",
       "      <td>2</td>\n",
       "      <td>1</td>\n",
       "    </tr>\n",
       "    <tr>\n",
       "      <th>3</th>\n",
       "      <td>55</td>\n",
       "      <td>7</td>\n",
       "      <td>0</td>\n",
       "      <td>1</td>\n",
       "      <td>0</td>\n",
       "      <td>3</td>\n",
       "      <td>2832379.739</td>\n",
       "      <td>0</td>\n",
       "      <td>1</td>\n",
       "      <td>1</td>\n",
       "      <td>9</td>\n",
       "      <td>6</td>\n",
       "      <td>4</td>\n",
       "      <td>1</td>\n",
       "      <td>1</td>\n",
       "    </tr>\n",
       "    <tr>\n",
       "      <th>4</th>\n",
       "      <td>26</td>\n",
       "      <td>9</td>\n",
       "      <td>1</td>\n",
       "      <td>1</td>\n",
       "      <td>0</td>\n",
       "      <td>4</td>\n",
       "      <td>2638750.576</td>\n",
       "      <td>2</td>\n",
       "      <td>4</td>\n",
       "      <td>2</td>\n",
       "      <td>14</td>\n",
       "      <td>4</td>\n",
       "      <td>4</td>\n",
       "      <td>2</td>\n",
       "      <td>4</td>\n",
       "    </tr>\n",
       "  </tbody>\n",
       "</table>\n",
       "</div>"
      ],
      "text/plain": [
       "   Age  City  Profession  Marital Status  Education  No. of Family members  \\\n",
       "0   30    27           1               1          0                      5   \n",
       "1   27     7           1               1          0                      4   \n",
       "2   32    25           1               1          0                      4   \n",
       "3   55     7           0               1          0                      3   \n",
       "4   26     9           1               1          0                      4   \n",
       "\n",
       "   Annual Income  \\\n",
       "0    1193875.647   \n",
       "1    1844540.398   \n",
       "2    2948150.113   \n",
       "3    2832379.739   \n",
       "4    2638750.576   \n",
       "\n",
       "   Would you prefer replacing all your vehicles to Electronic vehicles?  \\\n",
       "0                                                  0                      \n",
       "1                                                  2                      \n",
       "2                                                  2                      \n",
       "3                                                  0                      \n",
       "4                                                  2                      \n",
       "\n",
       "   If Yes/Maybe what type of EV would you prefer?  \\\n",
       "0                                               3   \n",
       "1                                               3   \n",
       "2                                               1   \n",
       "3                                               1   \n",
       "4                                               4   \n",
       "\n",
       "   Do you think Electronic Vehicles are economical?  \\\n",
       "0                                                 2   \n",
       "1                                                 2   \n",
       "2                                                 2   \n",
       "3                                                 1   \n",
       "4                                                 2   \n",
       "\n",
       "   Which brand of vehicle do you currently own?  \\\n",
       "0                                             9   \n",
       "1                                             8   \n",
       "2                                            10   \n",
       "3                                             9   \n",
       "4                                            14   \n",
       "\n",
       "   How much money could you spend on an Electronic vehicle?  \\\n",
       "0                                                  6          \n",
       "1                                                  4          \n",
       "2                                                  4          \n",
       "3                                                  6          \n",
       "4                                                  4          \n",
       "\n",
       "   Preference for wheels in EV  \\\n",
       "0                            2   \n",
       "1                            4   \n",
       "2                            4   \n",
       "3                            4   \n",
       "4                            4   \n",
       "\n",
       "   Do you think Electronic vehicles will replace fuel cars in India?  \\\n",
       "0                                                  0                   \n",
       "1                                                  2                   \n",
       "2                                                  2                   \n",
       "3                                                  1                   \n",
       "4                                                  2                   \n",
       "\n",
       "   If Yes/Maybe what type of  EV would you prefer?  \n",
       "0                                                3  \n",
       "1                                                3  \n",
       "2                                                1  \n",
       "3                                                1  \n",
       "4                                                4  "
      ]
     },
     "execution_count": 140,
     "metadata": {},
     "output_type": "execute_result"
    }
   ],
   "source": [
    "df.head()"
   ]
  },
  {
   "cell_type": "code",
   "execution_count": 141,
   "id": "93215553",
   "metadata": {},
   "outputs": [],
   "source": [
    "X = df.iloc[:,:-1]"
   ]
  },
  {
   "cell_type": "markdown",
   "id": "4d80b7d0",
   "metadata": {},
   "source": [
    "#### K MEANS MODEL"
   ]
  },
  {
   "cell_type": "code",
   "execution_count": 142,
   "id": "e01cc454",
   "metadata": {},
   "outputs": [
    {
     "data": {
      "image/png": "[encoded data removed]",
      "text/plain": [
       "<Figure size 864x432 with 1 Axes>"
      ]
     },
     "metadata": {
      "needs_background": "light"
     },
     "output_type": "display_data"
    }
   ],
   "source": [
    "from sklearn.cluster import KMeans\n",
    "wcss = []\n",
    "for k in range(1,11):\n",
    "    kmeans = KMeans(n_clusters=k, init=\"k-means++\",random_state=28)\n",
    "    kmeans.fit(X)\n",
    "    wcss.append(kmeans.inertia_)\n",
    "plt.figure(figsize=(12,6))    \n",
    "plt.grid()\n",
    "plt.plot(range(1,11),wcss, linewidth=2, color=\"red\", marker =\"8\")\n",
    "plt.xlabel(\"K Value\")\n",
    "plt.xticks(np.arange(1,11,1))\n",
    "plt.ylabel(\"WCSS\")\n",
    "plt.show()\n"
   ]
  },
  {
   "cell_type": "code",
   "execution_count": 143,
   "id": "735fdda5",
   "metadata": {},
   "outputs": [
    {
     "data": {
      "image/png": "[encoded data removed]",
      "text/plain": [
       "<Figure size 1440x720 with 1 Axes>"
      ]
     },
     "metadata": {
      "needs_background": "light"
     },
     "output_type": "display_data"
    }
   ],
   "source": [
    "km = KMeans(n_clusters=4, random_state=28)\n",
    "clusters = km.fit_predict(df)\n",
    "df[\"Cluster\"] = clusters\n",
    "\n",
    "df_Original[\"Cluster\"] = clusters\n",
    "\n",
    "from mpl_toolkits.mplot3d import Axes3D\n",
    "import matplotlib.pyplot as plt\n",
    "import numpy as np\n",
    "import pandas as pd\n",
    " \n",
    "fig = plt.figure(figsize=(20,10))\n",
    "ax = fig.add_subplot(111, projection='3d')\n",
    "ax.scatter(df.Age[df.Cluster == 0], df[\"Annual Income\"][df.Cluster == 0], df[\"How much money could you spend on an Electronic vehicle?\"][df.Cluster == 0], c='blue', s=60)\n",
    "ax.scatter(df.Age[df.Cluster == 1], df[\"Annual Income\"][df.Cluster == 1], df[\"How much money could you spend on an Electronic vehicle?\"][df.Cluster == 1], c='red', s=60)\n",
    "ax.scatter(df.Age[df.Cluster == 2], df[\"Annual Income\"][df.Cluster == 2], df[\"How much money could you spend on an Electronic vehicle?\"][df.Cluster == 2], c='green', s=60)\n",
    "ax.scatter(df.Age[df.Cluster == 3], df[\"Annual Income\"][df.Cluster == 3], df[\"How much money could you spend on an Electronic vehicle?\"][df.Cluster == 3], c='orange', s=60)\n",
    "\n",
    "ax.view_init(30, 185)\n",
    "plt.xlabel(\"Age\")\n",
    "plt.ylabel(\"Annual Income\")\n",
    "ax.set_zlabel('How much money could you spend on an Electronic vehicle?')\n",
    "plt.show()"
   ]
  },
  {
   "cell_type": "code",
   "execution_count": 145,
   "id": "cf7c6f0b",
   "metadata": {},
   "outputs": [
    {
     "data": {
      "text/html": [
       "<div>\n",
       "<style scoped>\n",
       "    .dataframe tbody tr th:only-of-type {\n",
       "        vertical-align: middle;\n",
       "    }\n",
       "\n",
       "    .dataframe tbody tr th {\n",
       "        vertical-align: top;\n",
       "    }\n",
       "\n",
       "    .dataframe thead th {\n",
       "        text-align: right;\n",
       "    }\n",
       "</style>\n",
       "<table border=\"1\" class=\"dataframe\">\n",
       "  <thead>\n",
       "    <tr style=\"text-align: right;\">\n",
       "      <th></th>\n",
       "      <th>Unnamed:</th>\n",
       "      <th>Age</th>\n",
       "      <th>City</th>\n",
       "      <th>Profession</th>\n",
       "      <th>Marital Status</th>\n",
       "      <th>Education</th>\n",
       "      <th>No. of Family members</th>\n",
       "      <th>Annual Income</th>\n",
       "      <th>Would you prefer replacing all your vehicles to Electronic vehicles?</th>\n",
       "      <th>If Yes/Maybe what type of EV would you prefer?</th>\n",
       "      <th>Do you think Electronic Vehicles are economical?</th>\n",
       "      <th>Which brand of vehicle do you currently own?</th>\n",
       "      <th>How much money could you spend on an Electronic vehicle?</th>\n",
       "      <th>Preference for wheels in EV</th>\n",
       "      <th>Do you think Electronic vehicles will replace fuel cars in India?</th>\n",
       "      <th>Cluster</th>\n",
       "    </tr>\n",
       "  </thead>\n",
       "  <tbody>\n",
       "    <tr>\n",
       "      <th>0</th>\n",
       "      <td>0</td>\n",
       "      <td>30</td>\n",
       "      <td>Nabha</td>\n",
       "      <td>None</td>\n",
       "      <td>Single</td>\n",
       "      <td>Graduate</td>\n",
       "      <td>5</td>\n",
       "      <td>1193875.647</td>\n",
       "      <td>Maybe</td>\n",
       "      <td>SUV</td>\n",
       "      <td>Yes</td>\n",
       "      <td>Hyundai</td>\n",
       "      <td>&lt;5 lakhs</td>\n",
       "      <td>2</td>\n",
       "      <td>I don't think so</td>\n",
       "      <td>1</td>\n",
       "    </tr>\n",
       "    <tr>\n",
       "      <th>1</th>\n",
       "      <td>1</td>\n",
       "      <td>27</td>\n",
       "      <td>Pune</td>\n",
       "      <td>None</td>\n",
       "      <td>Single</td>\n",
       "      <td>Graduate</td>\n",
       "      <td>4</td>\n",
       "      <td>1844540.398</td>\n",
       "      <td>Yes</td>\n",
       "      <td>SUV</td>\n",
       "      <td>Yes</td>\n",
       "      <td>Honda</td>\n",
       "      <td>&lt;15 lakhs</td>\n",
       "      <td>4</td>\n",
       "      <td>Yes, in &lt;20years</td>\n",
       "      <td>3</td>\n",
       "    </tr>\n",
       "    <tr>\n",
       "      <th>2</th>\n",
       "      <td>2</td>\n",
       "      <td>32</td>\n",
       "      <td>Kashipur</td>\n",
       "      <td>None</td>\n",
       "      <td>Single</td>\n",
       "      <td>Graduate</td>\n",
       "      <td>4</td>\n",
       "      <td>2948150.113</td>\n",
       "      <td>Yes</td>\n",
       "      <td>Hatchback</td>\n",
       "      <td>Yes</td>\n",
       "      <td>KIA</td>\n",
       "      <td>&lt;15 lakhs</td>\n",
       "      <td>4</td>\n",
       "      <td>Yes, in &lt;20years</td>\n",
       "      <td>0</td>\n",
       "    </tr>\n",
       "    <tr>\n",
       "      <th>3</th>\n",
       "      <td>3</td>\n",
       "      <td>55</td>\n",
       "      <td>Pune</td>\n",
       "      <td>Business</td>\n",
       "      <td>Single</td>\n",
       "      <td>Graduate</td>\n",
       "      <td>3</td>\n",
       "      <td>2832379.739</td>\n",
       "      <td>Maybe</td>\n",
       "      <td>Hatchback</td>\n",
       "      <td>No</td>\n",
       "      <td>Hyundai</td>\n",
       "      <td>&lt;5 lakhs</td>\n",
       "      <td>4</td>\n",
       "      <td>Yes, in &lt;10 years</td>\n",
       "      <td>0</td>\n",
       "    </tr>\n",
       "    <tr>\n",
       "      <th>4</th>\n",
       "      <td>4</td>\n",
       "      <td>26</td>\n",
       "      <td>Satara</td>\n",
       "      <td>None</td>\n",
       "      <td>Single</td>\n",
       "      <td>Graduate</td>\n",
       "      <td>4</td>\n",
       "      <td>2638750.576</td>\n",
       "      <td>Yes</td>\n",
       "      <td>Sedan</td>\n",
       "      <td>Yes</td>\n",
       "      <td>McLaren</td>\n",
       "      <td>&lt;15 lakhs</td>\n",
       "      <td>4</td>\n",
       "      <td>Yes, in &lt;20years</td>\n",
       "      <td>0</td>\n",
       "    </tr>\n",
       "    <tr>\n",
       "      <th>...</th>\n",
       "      <td>...</td>\n",
       "      <td>...</td>\n",
       "      <td>...</td>\n",
       "      <td>...</td>\n",
       "      <td>...</td>\n",
       "      <td>...</td>\n",
       "      <td>...</td>\n",
       "      <td>...</td>\n",
       "      <td>...</td>\n",
       "      <td>...</td>\n",
       "      <td>...</td>\n",
       "      <td>...</td>\n",
       "      <td>...</td>\n",
       "      <td>...</td>\n",
       "      <td>...</td>\n",
       "      <td>...</td>\n",
       "    </tr>\n",
       "    <tr>\n",
       "      <th>995</th>\n",
       "      <td>995</td>\n",
       "      <td>31</td>\n",
       "      <td>Pune</td>\n",
       "      <td>None</td>\n",
       "      <td>Married</td>\n",
       "      <td>Graduate</td>\n",
       "      <td>7</td>\n",
       "      <td>2110722.120</td>\n",
       "      <td>Yes</td>\n",
       "      <td>SUV</td>\n",
       "      <td>Yes</td>\n",
       "      <td>KIA</td>\n",
       "      <td>&lt;25 lakhs</td>\n",
       "      <td>4</td>\n",
       "      <td>Yes, in &lt;10 years</td>\n",
       "      <td>3</td>\n",
       "    </tr>\n",
       "    <tr>\n",
       "      <th>996</th>\n",
       "      <td>996</td>\n",
       "      <td>29</td>\n",
       "      <td>Pune</td>\n",
       "      <td>None</td>\n",
       "      <td>Married</td>\n",
       "      <td>Post Graduate</td>\n",
       "      <td>4</td>\n",
       "      <td>1616287.706</td>\n",
       "      <td>No</td>\n",
       "      <td>SUV</td>\n",
       "      <td>Yes</td>\n",
       "      <td>KIA</td>\n",
       "      <td>&lt;5 lakhs</td>\n",
       "      <td>4</td>\n",
       "      <td>Yes, in &lt;20years</td>\n",
       "      <td>3</td>\n",
       "    </tr>\n",
       "    <tr>\n",
       "      <th>997</th>\n",
       "      <td>997</td>\n",
       "      <td>30</td>\n",
       "      <td>Mumbai</td>\n",
       "      <td>Business</td>\n",
       "      <td>Single</td>\n",
       "      <td>Graduate</td>\n",
       "      <td>4</td>\n",
       "      <td>2202829.029</td>\n",
       "      <td>Yes</td>\n",
       "      <td>SUV</td>\n",
       "      <td>Yes</td>\n",
       "      <td>Honda</td>\n",
       "      <td>&lt;15 lakhs</td>\n",
       "      <td>4</td>\n",
       "      <td>Yes, in &lt;20years</td>\n",
       "      <td>3</td>\n",
       "    </tr>\n",
       "    <tr>\n",
       "      <th>998</th>\n",
       "      <td>998</td>\n",
       "      <td>24</td>\n",
       "      <td>Ahmedabad</td>\n",
       "      <td>None</td>\n",
       "      <td>Married</td>\n",
       "      <td>Graduate</td>\n",
       "      <td>4</td>\n",
       "      <td>1764744.068</td>\n",
       "      <td>Yes</td>\n",
       "      <td>SUV</td>\n",
       "      <td>Yes</td>\n",
       "      <td>Maruti</td>\n",
       "      <td>&lt;15 lakhs</td>\n",
       "      <td>4</td>\n",
       "      <td>Yes, in &lt;20years</td>\n",
       "      <td>3</td>\n",
       "    </tr>\n",
       "    <tr>\n",
       "      <th>999</th>\n",
       "      <td>999</td>\n",
       "      <td>30</td>\n",
       "      <td>Pune</td>\n",
       "      <td>Business</td>\n",
       "      <td>Single</td>\n",
       "      <td>Graduate</td>\n",
       "      <td>4</td>\n",
       "      <td>2486664.468</td>\n",
       "      <td>No</td>\n",
       "      <td>Liftback</td>\n",
       "      <td>Yes</td>\n",
       "      <td>Maruti</td>\n",
       "      <td>&lt;5 lakhs</td>\n",
       "      <td>4</td>\n",
       "      <td>Yes, in &lt;10 years</td>\n",
       "      <td>0</td>\n",
       "    </tr>\n",
       "  </tbody>\n",
       "</table>\n",
       "<p>1000 rows × 16 columns</p>\n",
       "</div>"
      ],
      "text/plain": [
       "     Unnamed:   Age       City Profession Marital Status      Education  \\\n",
       "0            0   30      Nabha       None         Single       Graduate   \n",
       "1            1   27       Pune       None         Single       Graduate   \n",
       "2            2   32   Kashipur       None         Single       Graduate   \n",
       "3            3   55       Pune   Business         Single       Graduate   \n",
       "4            4   26     Satara       None         Single       Graduate   \n",
       "..         ...  ...        ...        ...            ...            ...   \n",
       "995        995   31       Pune       None        Married       Graduate   \n",
       "996        996   29       Pune       None        Married  Post Graduate   \n",
       "997        997   30     Mumbai   Business         Single       Graduate   \n",
       "998        998   24  Ahmedabad       None        Married       Graduate   \n",
       "999        999   30       Pune   Business         Single       Graduate   \n",
       "\n",
       "     No. of Family members  Annual Income  \\\n",
       "0                        5    1193875.647   \n",
       "1                        4    1844540.398   \n",
       "2                        4    2948150.113   \n",
       "3                        3    2832379.739   \n",
       "4                        4    2638750.576   \n",
       "..                     ...            ...   \n",
       "995                      7    2110722.120   \n",
       "996                      4    1616287.706   \n",
       "997                      4    2202829.029   \n",
       "998                      4    1764744.068   \n",
       "999                      4    2486664.468   \n",
       "\n",
       "    Would you prefer replacing all your vehicles to Electronic vehicles?  \\\n",
       "0                                                Maybe                     \n",
       "1                                                  Yes                     \n",
       "2                                                  Yes                     \n",
       "3                                                Maybe                     \n",
       "4                                                  Yes                     \n",
       "..                                                 ...                     \n",
       "995                                                Yes                     \n",
       "996                                                 No                     \n",
       "997                                                Yes                     \n",
       "998                                                Yes                     \n",
       "999                                                 No                     \n",
       "\n",
       "    If Yes/Maybe what type of EV would you prefer?  \\\n",
       "0                                              SUV   \n",
       "1                                              SUV   \n",
       "2                                        Hatchback   \n",
       "3                                        Hatchback   \n",
       "4                                            Sedan   \n",
       "..                                             ...   \n",
       "995                                            SUV   \n",
       "996                                            SUV   \n",
       "997                                            SUV   \n",
       "998                                            SUV   \n",
       "999                                       Liftback   \n",
       "\n",
       "    Do you think Electronic Vehicles are economical?  \\\n",
       "0                                                Yes   \n",
       "1                                                Yes   \n",
       "2                                                Yes   \n",
       "3                                                 No   \n",
       "4                                                Yes   \n",
       "..                                               ...   \n",
       "995                                              Yes   \n",
       "996                                              Yes   \n",
       "997                                              Yes   \n",
       "998                                              Yes   \n",
       "999                                              Yes   \n",
       "\n",
       "    Which brand of vehicle do you currently own?  \\\n",
       "0                                        Hyundai   \n",
       "1                                          Honda   \n",
       "2                                            KIA   \n",
       "3                                        Hyundai   \n",
       "4                                        McLaren   \n",
       "..                                           ...   \n",
       "995                                          KIA   \n",
       "996                                          KIA   \n",
       "997                                        Honda   \n",
       "998                                       Maruti   \n",
       "999                                       Maruti   \n",
       "\n",
       "    How much money could you spend on an Electronic vehicle?  \\\n",
       "0                                             <5 lakhs         \n",
       "1                                            <15 lakhs         \n",
       "2                                            <15 lakhs         \n",
       "3                                             <5 lakhs         \n",
       "4                                            <15 lakhs         \n",
       "..                                                 ...         \n",
       "995                                          <25 lakhs         \n",
       "996                                           <5 lakhs         \n",
       "997                                          <15 lakhs         \n",
       "998                                          <15 lakhs         \n",
       "999                                           <5 lakhs         \n",
       "\n",
       "     Preference for wheels in EV  \\\n",
       "0                              2   \n",
       "1                              4   \n",
       "2                              4   \n",
       "3                              4   \n",
       "4                              4   \n",
       "..                           ...   \n",
       "995                            4   \n",
       "996                            4   \n",
       "997                            4   \n",
       "998                            4   \n",
       "999                            4   \n",
       "\n",
       "    Do you think Electronic vehicles will replace fuel cars in India?  Cluster  \n",
       "0                                     I don't think so                       1  \n",
       "1                                     Yes, in <20years                       3  \n",
       "2                                     Yes, in <20years                       0  \n",
       "3                                    Yes, in <10 years                       0  \n",
       "4                                     Yes, in <20years                       0  \n",
       "..                                                 ...                     ...  \n",
       "995                                  Yes, in <10 years                       3  \n",
       "996                                   Yes, in <20years                       3  \n",
       "997                                   Yes, in <20years                       3  \n",
       "998                                   Yes, in <20years                       3  \n",
       "999                                  Yes, in <10 years                       0  \n",
       "\n",
       "[1000 rows x 16 columns]"
      ]
     },
     "execution_count": 145,
     "metadata": {},
     "output_type": "execute_result"
    }
   ],
   "source": [
    "df1=df_Original.copy()\n",
    "df1"
   ]
  },
  {
   "cell_type": "code",
   "execution_count": 147,
   "id": "f20d3d30",
   "metadata": {},
   "outputs": [],
   "source": [
    "df1[\"City\"] = df1[\"City\"].replace({\"Pune\":\"Pune\", \"pUNE\": \"Pune\", \"pune\": \"Pune\", \"Pune \": \"Pune\"})\n",
    "df1[\"City\"] = df1[\"City\"].replace({\"Mumbai \":\"Mumbai\", \"Mumbai\": \"Mumbai\"})\n",
    "df1[\"City\"] = df1[\"City\"].replace({\"Banglore \":\"Bengaluru\"})\n",
    "df1[\"City\"] = df1[\"City\"].replace({\"Delhi\":\"New Delhi\", \"Delhi \": \"New Delhi\", \"New Delhi \": \"New Delhi\"})\n",
    "df1[\"City\"] = df1[\"City\"].replace({\"Hakdwani\":\"Haldwani\", \"Haldwani \": \"Haldwani\"})\n",
    "df1[\"City\"] = df1[\"City\"].replace({\"nashik\":\"Nashik\"})"
   ]
  },
  {
   "cell_type": "code",
   "execution_count": 148,
   "id": "eefe8b84",
   "metadata": {},
   "outputs": [
    {
     "data": {
      "text/plain": [
       "0    430\n",
       "3    368\n",
       "1    195\n",
       "2      7\n",
       "Name: Cluster, dtype: int64"
      ]
     },
     "execution_count": 148,
     "metadata": {},
     "output_type": "execute_result"
    }
   ],
   "source": [
    "df1['Cluster'].value_counts() "
   ]
  },
  {
   "cell_type": "markdown",
   "id": "578c8b71",
   "metadata": {},
   "source": [
    "## More customers belong to Cluster 0 & 3"
   ]
  },
  {
   "cell_type": "markdown",
   "id": "83aea2ab",
   "metadata": {},
   "source": [
    "### Cluster 2 & 1 has very less customers"
   ]
  },
  {
   "cell_type": "code",
   "execution_count": 149,
   "id": "40ae9a23",
   "metadata": {},
   "outputs": [
    {
     "data": {
      "text/plain": [
       "(7, 16)"
      ]
     },
     "execution_count": 149,
     "metadata": {},
     "output_type": "execute_result"
    }
   ],
   "source": [
    "Cluster_0 = df1[df1.Cluster==0]\n",
    "Cluster_1 = df1[df1.Cluster==1]\n",
    "Cluster_2 = df1[df1.Cluster==2]\n",
    "Cluster_3 = df1[df1.Cluster==3]\n",
    "Cluster_2.shape"
   ]
  },
  {
   "cell_type": "code",
   "execution_count": 150,
   "id": "45a45143",
   "metadata": {},
   "outputs": [
    {
     "data": {
      "text/plain": [
       "[29    47\n",
       " 28    43\n",
       " 30    43\n",
       " Name: Age, dtype: int64,\n",
       " 31    28\n",
       " 30    23\n",
       " 29    23\n",
       " Name: Age, dtype: int64,\n",
       " 30    2\n",
       " 26    1\n",
       " 29    1\n",
       " Name: Age, dtype: int64,\n",
       " 29    45\n",
       " 28    42\n",
       " 30    37\n",
       " Name: Age, dtype: int64]"
      ]
     },
     "execution_count": 150,
     "metadata": {},
     "output_type": "execute_result"
    }
   ],
   "source": [
    "[Cluster_0['Age'].value_counts().head(3), \n",
    " Cluster_1['Age'].value_counts().head(3), \n",
    " Cluster_2['Age'].value_counts().head(3), \n",
    " Cluster_3['Age'].value_counts().head(3)]"
   ]
  },
  {
   "cell_type": "markdown",
   "id": "d4a94c80",
   "metadata": {},
   "source": [
    "### Based on Cluster 0 & 3, Age group of 28-31 are to be targeted "
   ]
  },
  {
   "cell_type": "code",
   "execution_count": 151,
   "id": "f091fe9e",
   "metadata": {},
   "outputs": [
    {
     "data": {
      "text/plain": [
       "[Pune         279\n",
       " New Delhi     28\n",
       " Mumbai        23\n",
       " Haldwani      10\n",
       " Nagpur         9\n",
       " Name: City, dtype: int64,\n",
       " Pune         107\n",
       " Mumbai        14\n",
       " New Delhi     11\n",
       " Haldwani       6\n",
       " Chennai        6\n",
       " Name: City, dtype: int64,\n",
       " Pune         4\n",
       " Mumbai       2\n",
       " Ahmedabad    1\n",
       " Name: City, dtype: int64,\n",
       " Pune         231\n",
       " New Delhi     18\n",
       " Mumbai        17\n",
       " Haldwani      11\n",
       " Satara         9\n",
       " Name: City, dtype: int64]"
      ]
     },
     "execution_count": 151,
     "metadata": {},
     "output_type": "execute_result"
    }
   ],
   "source": [
    "[Cluster_0['City'].value_counts().head(),\n",
    " Cluster_1['City'].value_counts().head(), \n",
    " Cluster_2['City'].value_counts().head(), \n",
    " Cluster_3['City'].value_counts().head()]"
   ]
  },
  {
   "cell_type": "markdown",
   "id": "fe8648dd",
   "metadata": {},
   "source": [
    "#Pune & Mumbai are present in all the clusters, \n",
    "\n",
    "#New Delhi & Haldwani are present in 3 of 4 clusters,\n",
    "\n",
    "#Satara & Bengaluru are present in 1 of the 4 clusters. "
   ]
  },
  {
   "cell_type": "markdown",
   "id": "18979176",
   "metadata": {},
   "source": [
    "#### 1. 'Pune' & 'Mumbai' are the most suitable location to create the early market in EV segment.\n",
    "#### 2. 'New Delhi' & 'Haldwani' should be next priority.\n",
    "#### 3. Followed by 'Satara' & 'Bengaluru'."
   ]
  },
  {
   "cell_type": "markdown",
   "id": "d69b743b",
   "metadata": {},
   "source": [
    "### The City should also have enough charging stations, will try to analyse Sanctioned Charging stations in India Dataset "
   ]
  },
  {
   "cell_type": "code",
   "execution_count": 152,
   "id": "82612adf",
   "metadata": {},
   "outputs": [
    {
     "data": {
      "text/plain": [
       "[None                    207\n",
       " Working Professional    135\n",
       " Business                 73\n",
       " Salaried                 15\n",
       " Name: Profession, dtype: int64,\n",
       " None                    87\n",
       " Working Professional    68\n",
       " Business                32\n",
       " Salaried                 8\n",
       " Name: Profession, dtype: int64,\n",
       " None                    5\n",
       " Working Professional    1\n",
       " Business                1\n",
       " Name: Profession, dtype: int64,\n",
       " None                    161\n",
       " Working Professional    132\n",
       " Business                 61\n",
       " Salaried                 14\n",
       " Name: Profession, dtype: int64]"
      ]
     },
     "execution_count": 152,
     "metadata": {},
     "output_type": "execute_result"
    }
   ],
   "source": [
    "[Cluster_0['Profession'].value_counts().head(), \n",
    " Cluster_1['Profession'].value_counts().head(), \n",
    " Cluster_2['Profession'].value_counts().head(), \n",
    " Cluster_3['Profession'].value_counts().head()]"
   ]
  },
  {
   "cell_type": "markdown",
   "id": "c5ffa1b7",
   "metadata": {},
   "source": [
    "#### Salaried people are very less interested in EV vehicles.\n",
    "\n",
    " "
   ]
  },
  {
   "cell_type": "code",
   "execution_count": 153,
   "id": "d1b7514b",
   "metadata": {},
   "outputs": [
    {
     "data": {
      "text/plain": [
       "[2812149.7606093045, 1097632.5625656918, 10737228.10357143, 2064995.8703315218]"
      ]
     },
     "execution_count": 153,
     "metadata": {},
     "output_type": "execute_result"
    }
   ],
   "source": [
    "[Cluster_0['Annual Income'].mean(), \n",
    " Cluster_1['Annual Income'].mean(), \n",
    " Cluster_2['Annual Income'].mean(), \n",
    " Cluster_3['Annual Income'].mean()]"
   ]
  },
  {
   "cell_type": "markdown",
   "id": "8eeeb16b",
   "metadata": {},
   "source": [
    "### Cluster 0 customers have Higher Average Income(Rs. 2812149.76), Cluster 1 & 2 have lower Average Income"
   ]
  },
  {
   "cell_type": "code",
   "execution_count": 154,
   "id": "b57c098c",
   "metadata": {},
   "outputs": [
    {
     "data": {
      "text/plain": [
       "[Single     283\n",
       " Married    147\n",
       " Name: Marital Status, dtype: int64,\n",
       " Single     133\n",
       " Married     62\n",
       " Name: Marital Status, dtype: int64,\n",
       " Married    5\n",
       " Single     2\n",
       " Name: Marital Status, dtype: int64,\n",
       " Single     220\n",
       " Married    148\n",
       " Name: Marital Status, dtype: int64]"
      ]
     },
     "execution_count": 154,
     "metadata": {},
     "output_type": "execute_result"
    }
   ],
   "source": [
    "[Cluster_0['Marital Status'].value_counts().head(), \n",
    " Cluster_1['Marital Status'].value_counts().head(), \n",
    " Cluster_2['Marital Status'].value_counts().head(), \n",
    " Cluster_3['Marital Status'].value_counts().head()]"
   ]
  },
  {
   "cell_type": "code",
   "execution_count": 155,
   "id": "edb99593",
   "metadata": {},
   "outputs": [
    {
     "data": {
      "text/plain": [
       "Yes      147\n",
       "Maybe     40\n",
       "No        33\n",
       "Name: Would you prefer replacing all your vehicles to Electronic vehicles?, dtype: int64"
      ]
     },
     "execution_count": 155,
     "metadata": {},
     "output_type": "execute_result"
    }
   ],
   "source": [
    "m=Cluster_3[Cluster_3['Marital Status']=='Single']\n",
    "m['Would you prefer replacing all your vehicles to Electronic vehicles?'].value_counts()"
   ]
  },
  {
   "cell_type": "markdown",
   "id": "a0a801fd",
   "metadata": {},
   "source": [
    "### Single Marital Status people should be Targeted "
   ]
  },
  {
   "cell_type": "code",
   "execution_count": 157,
   "id": "bfd72eef",
   "metadata": {},
   "outputs": [
    {
     "data": {
      "text/plain": [
       "[4    231\n",
       " 5     63\n",
       " 3     59\n",
       " 6     22\n",
       " 2     14\n",
       " Name: No. of Family members, dtype: int64,\n",
       " 4    88\n",
       " 5    37\n",
       " 3    22\n",
       " 6    14\n",
       " 8    12\n",
       " Name: No. of Family members, dtype: int64,\n",
       " 4    3\n",
       " 6    2\n",
       " 5    1\n",
       " 8    1\n",
       " Name: No. of Family members, dtype: int64,\n",
       " 4    194\n",
       " 5     57\n",
       " 3     46\n",
       " 8     22\n",
       " 6     12\n",
       " Name: No. of Family members, dtype: int64]"
      ]
     },
     "execution_count": 157,
     "metadata": {},
     "output_type": "execute_result"
    }
   ],
   "source": [
    "[Cluster_0['No. of Family members'].value_counts().head(), \n",
    " Cluster_1['No. of Family members'].value_counts().head(), \n",
    " Cluster_2['No. of Family members'].value_counts().head(), \n",
    " Cluster_3['No. of Family members'].value_counts().head()]"
   ]
  },
  {
   "cell_type": "markdown",
   "id": "4af8346b",
   "metadata": {},
   "source": [
    "### Family with 3-5 members are more interested in EV. "
   ]
  },
  {
   "cell_type": "code",
   "execution_count": 158,
   "id": "d35be293",
   "metadata": {},
   "outputs": [
    {
     "data": {
      "text/plain": [
       "[Tata       78\n",
       " Hyundai    70\n",
       " Honda      65\n",
       " KIA        61\n",
       " Nissan     53\n",
       " Name: Which brand of vehicle do you currently own?, dtype: int64,\n",
       " Tata       36\n",
       " Hyundai    33\n",
       " KIA        28\n",
       " Honda      26\n",
       " Nissan     22\n",
       " Name: Which brand of vehicle do you currently own?, dtype: int64,\n",
       " Tata       3\n",
       " KIA        1\n",
       " MG         1\n",
       " Honda      1\n",
       " Hyundai    1\n",
       " Name: Which brand of vehicle do you currently own?, dtype: int64,\n",
       " Tata       69\n",
       " Hyundai    61\n",
       " KIA        54\n",
       " Honda      52\n",
       " Nissan     47\n",
       " Name: Which brand of vehicle do you currently own?, dtype: int64]"
      ]
     },
     "execution_count": 158,
     "metadata": {},
     "output_type": "execute_result"
    }
   ],
   "source": [
    "[Cluster_0['Which brand of vehicle do you currently own?'].value_counts().head(), \n",
    " Cluster_1['Which brand of vehicle do you currently own?'].value_counts().head(), \n",
    " Cluster_2['Which brand of vehicle do you currently own?'].value_counts().head(), \n",
    " Cluster_3['Which brand of vehicle do you currently own?'].value_counts().head()]"
   ]
  },
  {
   "cell_type": "markdown",
   "id": "2d86a7c9",
   "metadata": {},
   "source": [
    "### education Analysis of  EV customers "
   ]
  },
  {
   "cell_type": "code",
   "execution_count": 159,
   "id": "e3de5213",
   "metadata": {},
   "outputs": [
    {
     "data": {
      "text/plain": [
       "[Graduate         298\n",
       " Post Graduate    132\n",
       " Name: Education, dtype: int64,\n",
       " Graduate         130\n",
       " Post Graduate     65\n",
       " Name: Education, dtype: int64,\n",
       " Graduate         5\n",
       " Post Graduate    2\n",
       " Name: Education, dtype: int64,\n",
       " Graduate         260\n",
       " Post Graduate    108\n",
       " Name: Education, dtype: int64]"
      ]
     },
     "execution_count": 159,
     "metadata": {},
     "output_type": "execute_result"
    }
   ],
   "source": [
    "[Cluster_0['Education'].value_counts().head(),\n",
    " Cluster_1['Education'].value_counts().head(), \n",
    " Cluster_2['Education'].value_counts().head(), \n",
    " Cluster_3['Education'].value_counts().head()]"
   ]
  },
  {
   "cell_type": "code",
   "execution_count": 160,
   "id": "4285aa0f",
   "metadata": {},
   "outputs": [
    {
     "data": {
      "text/plain": [
       "Yes      176\n",
       "Maybe     50\n",
       "No        34\n",
       "Name: Would you prefer replacing all your vehicles to Electronic vehicles?, dtype: int64"
      ]
     },
     "execution_count": 160,
     "metadata": {},
     "output_type": "execute_result"
    }
   ],
   "source": [
    "e=Cluster_3[Cluster_3['Education']=='Graduate']\n",
    "e['Would you prefer replacing all your vehicles to Electronic vehicles?'].value_counts()"
   ]
  },
  {
   "cell_type": "code",
   "execution_count": 161,
   "id": "d169aa8f",
   "metadata": {},
   "outputs": [
    {
     "data": {
      "text/plain": [
       "864"
      ]
     },
     "execution_count": 161,
     "metadata": {},
     "output_type": "execute_result"
    }
   ],
   "source": [
    "y= df_Original['Would you prefer replacing all your vehicles to Electronic vehicles?']\n",
    "z=df_Original['Cluster']\n",
    "x = list(zip(y, z))\n",
    "\n",
    "i = pd.DataFrame(x,columns=['Would you prefer replacing all your vehicles to Electronic vehicles?', 'Cluster'])\n",
    "(i['Would you prefer replacing all your vehicles to Electronic vehicles?']=='Yes').sum() + (i['Would you prefer replacing all your vehicles to Electronic vehicles?']=='Maybe').sum()"
   ]
  },
  {
   "cell_type": "markdown",
   "id": "e64a7e44",
   "metadata": {},
   "source": [
    "864 customers out of 1000 are intersted in EV.\n",
    "\n",
    "Graduates are more interested in replacing vehicles to EV"
   ]
  },
  {
   "cell_type": "markdown",
   "id": "73237c77",
   "metadata": {},
   "source": [
    "###  value count of How much money could you spend on an Electronic vehicle "
   ]
  },
  {
   "cell_type": "code",
   "execution_count": 163,
   "id": "01a29fb1",
   "metadata": {
    "scrolled": true
   },
   "outputs": [
    {
     "name": "stdout",
     "output_type": "stream",
     "text": [
      "<15 lakhs    216\n",
      "<5 lakhs     127\n",
      "<25 lakhs     49\n",
      ">25 lakhs     15\n",
      "1200000        7\n",
      "Name: How much money could you spend on an Electronic vehicle?, dtype: int64\n",
      "<15 lakhs    102\n",
      "<5 lakhs      53\n",
      "<25 lakhs     29\n",
      ">25 lakhs      5\n",
      "1200000        3\n",
      "Name: How much money could you spend on an Electronic vehicle?, dtype: int64\n",
      "<15 lakhs    3\n",
      "<5 lakhs     3\n",
      "<25 lakhs    1\n",
      "Name: How much money could you spend on an Electronic vehicle?, dtype: int64\n",
      "<15 lakhs    162\n",
      "<5 lakhs     105\n",
      "<25 lakhs     69\n",
      ">25 lakhs     14\n",
      "700000         6\n",
      "Name: How much money could you spend on an Electronic vehicle?, dtype: int64\n"
     ]
    }
   ],
   "source": [
    "print(Cluster_0['How much money could you spend on an Electronic vehicle?'].value_counts().head())\n",
    "print(Cluster_1['How much money could you spend on an Electronic vehicle?'].value_counts().head())\n",
    "print(Cluster_2['How much money could you spend on an Electronic vehicle?'].value_counts().head())\n",
    "print(Cluster_3['How much money could you spend on an Electronic vehicle?'].value_counts().head())"
   ]
  },
  {
   "cell_type": "markdown",
   "id": "3aecb783",
   "metadata": {},
   "source": [
    "#### Cluster 0 & 3 have more number of customers(770). Condidering only 0 & 3 clusters,\n",
    "\n",
    "#### 378 out of 770 that is 49.09% of people only wants to spend <15 lakhs for EV.\n",
    "#### 232 out of 770 that is 30.12% of people only wants to spend <5 lakhs.\n",
    "#### 118 out of 770 that is 15.32% of people only wants to spend <25 lakhs.\n",
    "\n",
    "49.09% of people only wants to spend <15 lakhs for EV\n",
    "\n",
    "Only 5.47% of people willing to spend more than 25 lakhs.\n",
    "\n",
    "By this,we can infer most customers want to invest less than 15 lakhs for their EV."
   ]
  },
  {
   "cell_type": "markdown",
   "id": "fd56b377",
   "metadata": {},
   "source": [
    "### The dataset provides the statewise number of electric vehicles being used on the roads of India as on April 2022.\n",
    "\n",
    "The complete data of Andhra Pradesh, Madhya Pradesh, Telangana and Lakshadweep is not available."
   ]
  },
  {
   "cell_type": "code",
   "execution_count": 247,
   "id": "8a61bc71",
   "metadata": {},
   "outputs": [
    {
     "data": {
      "text/html": [
       "<div>\n",
       "<style scoped>\n",
       "    .dataframe tbody tr th:only-of-type {\n",
       "        vertical-align: middle;\n",
       "    }\n",
       "\n",
       "    .dataframe tbody tr th {\n",
       "        vertical-align: top;\n",
       "    }\n",
       "\n",
       "    .dataframe thead th {\n",
       "        text-align: right;\n",
       "    }\n",
       "</style>\n",
       "<table border=\"1\" class=\"dataframe\">\n",
       "  <thead>\n",
       "    <tr style=\"text-align: right;\">\n",
       "      <th></th>\n",
       "      <th>Sr. No.</th>\n",
       "      <th>State Name</th>\n",
       "      <th>Total Electric Vehicle</th>\n",
       "      <th>Total Non-Electric Vehicle</th>\n",
       "      <th>Total</th>\n",
       "    </tr>\n",
       "  </thead>\n",
       "  <tbody>\n",
       "    <tr>\n",
       "      <th>0</th>\n",
       "      <td>1</td>\n",
       "      <td>Andaman &amp; Nicobar Island</td>\n",
       "      <td>162</td>\n",
       "      <td>1,46,945</td>\n",
       "      <td>1,47,107</td>\n",
       "    </tr>\n",
       "    <tr>\n",
       "      <th>1</th>\n",
       "      <td>2</td>\n",
       "      <td>Andra Pradesh</td>\n",
       "      <td>NaN</td>\n",
       "      <td>NaN</td>\n",
       "      <td>NaN</td>\n",
       "    </tr>\n",
       "    <tr>\n",
       "      <th>2</th>\n",
       "      <td>3</td>\n",
       "      <td>Arunachal Pradesh</td>\n",
       "      <td>20</td>\n",
       "      <td>2,52,965</td>\n",
       "      <td>2,52,985</td>\n",
       "    </tr>\n",
       "    <tr>\n",
       "      <th>3</th>\n",
       "      <td>4</td>\n",
       "      <td>Assam</td>\n",
       "      <td>64766</td>\n",
       "      <td>46,77,053</td>\n",
       "      <td>47,41,819</td>\n",
       "    </tr>\n",
       "    <tr>\n",
       "      <th>4</th>\n",
       "      <td>5</td>\n",
       "      <td>Bihar</td>\n",
       "      <td>83335</td>\n",
       "      <td>1,04,07,078</td>\n",
       "      <td>1,04,90,413</td>\n",
       "    </tr>\n",
       "  </tbody>\n",
       "</table>\n",
       "</div>"
      ],
      "text/plain": [
       "   Sr. No.                State Name Total Electric Vehicle  \\\n",
       "0        1  Andaman & Nicobar Island                    162   \n",
       "1        2             Andra Pradesh                    NaN   \n",
       "2        3         Arunachal Pradesh                     20   \n",
       "3        4                     Assam                  64766   \n",
       "4        5                     Bihar                  83335   \n",
       "\n",
       "  Total Non-Electric Vehicle        Total  \n",
       "0                   1,46,945     1,47,107  \n",
       "1                        NaN          NaN  \n",
       "2                   2,52,965     2,52,985  \n",
       "3                  46,77,053    47,41,819  \n",
       "4                1,04,07,078  1,04,90,413  "
      ]
     },
     "execution_count": 247,
     "metadata": {},
     "output_type": "execute_result"
    }
   ],
   "source": [
    "Active_EV = pd.read_csv(r\"C:\\Users\\soora\\Downloads\\EV_India.csv\")\n",
    "Active_EV.head()"
   ]
  },
  {
   "cell_type": "code",
   "execution_count": 249,
   "id": "2b707ec0",
   "metadata": {},
   "outputs": [],
   "source": [
    "c = ['Total Electric Vehicle','Total Non-Electric Vehicle','Total']\n",
    "le= LabelEncoder()\n",
    "for i in c:\n",
    "    Active_EV[i]=le.fit_transform(Active_EV[i].astype(str))"
   ]
  },
  {
   "cell_type": "code",
   "execution_count": 250,
   "id": "bfd24bb2",
   "metadata": {},
   "outputs": [
    {
     "data": {
      "text/plain": [
       "Sr. No.                       0\n",
       "State Name                    0\n",
       "Total Electric Vehicle        0\n",
       "Total Non-Electric Vehicle    0\n",
       "Total                         0\n",
       "dtype: int64"
      ]
     },
     "execution_count": 250,
     "metadata": {},
     "output_type": "execute_result"
    }
   ],
   "source": [
    "Active_EV.isnull().sum()\n"
   ]
  },
  {
   "cell_type": "code",
   "execution_count": 251,
   "id": "1a3f819d",
   "metadata": {},
   "outputs": [
    {
     "data": {
      "text/html": [
       "<div>\n",
       "<style scoped>\n",
       "    .dataframe tbody tr th:only-of-type {\n",
       "        vertical-align: middle;\n",
       "    }\n",
       "\n",
       "    .dataframe tbody tr th {\n",
       "        vertical-align: top;\n",
       "    }\n",
       "\n",
       "    .dataframe thead th {\n",
       "        text-align: right;\n",
       "    }\n",
       "</style>\n",
       "<table border=\"1\" class=\"dataframe\">\n",
       "  <thead>\n",
       "    <tr style=\"text-align: right;\">\n",
       "      <th></th>\n",
       "      <th>Sr. No.</th>\n",
       "      <th>State Name</th>\n",
       "      <th>Total Electric Vehicle</th>\n",
       "      <th>Total Non-Electric Vehicle</th>\n",
       "      <th>Total</th>\n",
       "    </tr>\n",
       "  </thead>\n",
       "  <tbody>\n",
       "    <tr>\n",
       "      <th>0</th>\n",
       "      <td>1</td>\n",
       "      <td>Andaman &amp; Nicobar Island</td>\n",
       "      <td>5</td>\n",
       "      <td>4</td>\n",
       "      <td>4</td>\n",
       "    </tr>\n",
       "    <tr>\n",
       "      <th>1</th>\n",
       "      <td>2</td>\n",
       "      <td>Andra Pradesh</td>\n",
       "      <td>31</td>\n",
       "      <td>32</td>\n",
       "      <td>32</td>\n",
       "    </tr>\n",
       "    <tr>\n",
       "      <th>2</th>\n",
       "      <td>3</td>\n",
       "      <td>Arunachal Pradesh</td>\n",
       "      <td>8</td>\n",
       "      <td>12</td>\n",
       "      <td>12</td>\n",
       "    </tr>\n",
       "    <tr>\n",
       "      <th>3</th>\n",
       "      <td>4</td>\n",
       "      <td>Assam</td>\n",
       "      <td>26</td>\n",
       "      <td>24</td>\n",
       "      <td>24</td>\n",
       "    </tr>\n",
       "    <tr>\n",
       "      <th>4</th>\n",
       "      <td>5</td>\n",
       "      <td>Bihar</td>\n",
       "      <td>29</td>\n",
       "      <td>0</td>\n",
       "      <td>0</td>\n",
       "    </tr>\n",
       "    <tr>\n",
       "      <th>5</th>\n",
       "      <td>6</td>\n",
       "      <td>Chandigarh</td>\n",
       "      <td>14</td>\n",
       "      <td>28</td>\n",
       "      <td>28</td>\n",
       "    </tr>\n",
       "    <tr>\n",
       "      <th>6</th>\n",
       "      <td>7</td>\n",
       "      <td>Chhattisgarh</td>\n",
       "      <td>9</td>\n",
       "      <td>27</td>\n",
       "      <td>27</td>\n",
       "    </tr>\n",
       "    <tr>\n",
       "      <th>7</th>\n",
       "      <td>8</td>\n",
       "      <td>Delhi</td>\n",
       "      <td>2</td>\n",
       "      <td>29</td>\n",
       "      <td>29</td>\n",
       "    </tr>\n",
       "    <tr>\n",
       "      <th>8</th>\n",
       "      <td>9</td>\n",
       "      <td>Goa</td>\n",
       "      <td>20</td>\n",
       "      <td>7</td>\n",
       "      <td>7</td>\n",
       "    </tr>\n",
       "    <tr>\n",
       "      <th>9</th>\n",
       "      <td>10</td>\n",
       "      <td>Gujarat</td>\n",
       "      <td>21</td>\n",
       "      <td>11</td>\n",
       "      <td>11</td>\n",
       "    </tr>\n",
       "    <tr>\n",
       "      <th>10</th>\n",
       "      <td>11</td>\n",
       "      <td>Haryana</td>\n",
       "      <td>19</td>\n",
       "      <td>1</td>\n",
       "      <td>1</td>\n",
       "    </tr>\n",
       "    <tr>\n",
       "      <th>11</th>\n",
       "      <td>12</td>\n",
       "      <td>Himachal Pradesh</td>\n",
       "      <td>3</td>\n",
       "      <td>10</td>\n",
       "      <td>10</td>\n",
       "    </tr>\n",
       "    <tr>\n",
       "      <th>12</th>\n",
       "      <td>13</td>\n",
       "      <td>Jammu and Kashmir</td>\n",
       "      <td>15</td>\n",
       "      <td>9</td>\n",
       "      <td>9</td>\n",
       "    </tr>\n",
       "    <tr>\n",
       "      <th>13</th>\n",
       "      <td>14</td>\n",
       "      <td>Jharkhand</td>\n",
       "      <td>6</td>\n",
       "      <td>26</td>\n",
       "      <td>26</td>\n",
       "    </tr>\n",
       "    <tr>\n",
       "      <th>14</th>\n",
       "      <td>15</td>\n",
       "      <td>Karnataka</td>\n",
       "      <td>1</td>\n",
       "      <td>13</td>\n",
       "      <td>13</td>\n",
       "    </tr>\n",
       "    <tr>\n",
       "      <th>15</th>\n",
       "      <td>16</td>\n",
       "      <td>Kerala</td>\n",
       "      <td>17</td>\n",
       "      <td>5</td>\n",
       "      <td>5</td>\n",
       "    </tr>\n",
       "    <tr>\n",
       "      <th>16</th>\n",
       "      <td>17</td>\n",
       "      <td>Ladakh</td>\n",
       "      <td>13</td>\n",
       "      <td>20</td>\n",
       "      <td>20</td>\n",
       "    </tr>\n",
       "    <tr>\n",
       "      <th>17</th>\n",
       "      <td>18</td>\n",
       "      <td>Lakshadweep</td>\n",
       "      <td>31</td>\n",
       "      <td>32</td>\n",
       "      <td>32</td>\n",
       "    </tr>\n",
       "    <tr>\n",
       "      <th>18</th>\n",
       "      <td>19</td>\n",
       "      <td>Madhya Pradesh</td>\n",
       "      <td>31</td>\n",
       "      <td>32</td>\n",
       "      <td>32</td>\n",
       "    </tr>\n",
       "    <tr>\n",
       "      <th>19</th>\n",
       "      <td>20</td>\n",
       "      <td>Maharashtra</td>\n",
       "      <td>0</td>\n",
       "      <td>16</td>\n",
       "      <td>16</td>\n",
       "    </tr>\n",
       "    <tr>\n",
       "      <th>20</th>\n",
       "      <td>21</td>\n",
       "      <td>Manipur</td>\n",
       "      <td>25</td>\n",
       "      <td>23</td>\n",
       "      <td>23</td>\n",
       "    </tr>\n",
       "    <tr>\n",
       "      <th>21</th>\n",
       "      <td>22</td>\n",
       "      <td>Meghalaya</td>\n",
       "      <td>23</td>\n",
       "      <td>22</td>\n",
       "      <td>22</td>\n",
       "    </tr>\n",
       "    <tr>\n",
       "      <th>22</th>\n",
       "      <td>23</td>\n",
       "      <td>Mizoram</td>\n",
       "      <td>10</td>\n",
       "      <td>17</td>\n",
       "      <td>17</td>\n",
       "    </tr>\n",
       "    <tr>\n",
       "      <th>23</th>\n",
       "      <td>24</td>\n",
       "      <td>Nagaland</td>\n",
       "      <td>24</td>\n",
       "      <td>18</td>\n",
       "      <td>18</td>\n",
       "    </tr>\n",
       "    <tr>\n",
       "      <th>24</th>\n",
       "      <td>25</td>\n",
       "      <td>Odisha</td>\n",
       "      <td>12</td>\n",
       "      <td>31</td>\n",
       "      <td>31</td>\n",
       "    </tr>\n",
       "    <tr>\n",
       "      <th>25</th>\n",
       "      <td>26</td>\n",
       "      <td>Puducherry</td>\n",
       "      <td>11</td>\n",
       "      <td>8</td>\n",
       "      <td>8</td>\n",
       "    </tr>\n",
       "    <tr>\n",
       "      <th>26</th>\n",
       "      <td>27</td>\n",
       "      <td>Punjab</td>\n",
       "      <td>4</td>\n",
       "      <td>2</td>\n",
       "      <td>2</td>\n",
       "    </tr>\n",
       "    <tr>\n",
       "      <th>27</th>\n",
       "      <td>28</td>\n",
       "      <td>Rajasthan</td>\n",
       "      <td>27</td>\n",
       "      <td>6</td>\n",
       "      <td>6</td>\n",
       "    </tr>\n",
       "    <tr>\n",
       "      <th>28</th>\n",
       "      <td>29</td>\n",
       "      <td>Sikkim</td>\n",
       "      <td>10</td>\n",
       "      <td>30</td>\n",
       "      <td>30</td>\n",
       "    </tr>\n",
       "    <tr>\n",
       "      <th>29</th>\n",
       "      <td>30</td>\n",
       "      <td>Tamil Nadu</td>\n",
       "      <td>28</td>\n",
       "      <td>14</td>\n",
       "      <td>14</td>\n",
       "    </tr>\n",
       "    <tr>\n",
       "      <th>30</th>\n",
       "      <td>31</td>\n",
       "      <td>Telangana</td>\n",
       "      <td>31</td>\n",
       "      <td>32</td>\n",
       "      <td>32</td>\n",
       "    </tr>\n",
       "    <tr>\n",
       "      <th>31</th>\n",
       "      <td>32</td>\n",
       "      <td>Tripura</td>\n",
       "      <td>30</td>\n",
       "      <td>25</td>\n",
       "      <td>25</td>\n",
       "    </tr>\n",
       "    <tr>\n",
       "      <th>32</th>\n",
       "      <td>33</td>\n",
       "      <td>UT of DNH and DD</td>\n",
       "      <td>7</td>\n",
       "      <td>15</td>\n",
       "      <td>15</td>\n",
       "    </tr>\n",
       "    <tr>\n",
       "      <th>33</th>\n",
       "      <td>34</td>\n",
       "      <td>Uttarakhand</td>\n",
       "      <td>18</td>\n",
       "      <td>19</td>\n",
       "      <td>19</td>\n",
       "    </tr>\n",
       "    <tr>\n",
       "      <th>34</th>\n",
       "      <td>35</td>\n",
       "      <td>Uttar Pradesh</td>\n",
       "      <td>16</td>\n",
       "      <td>21</td>\n",
       "      <td>21</td>\n",
       "    </tr>\n",
       "    <tr>\n",
       "      <th>35</th>\n",
       "      <td>36</td>\n",
       "      <td>West Bengal</td>\n",
       "      <td>22</td>\n",
       "      <td>3</td>\n",
       "      <td>3</td>\n",
       "    </tr>\n",
       "  </tbody>\n",
       "</table>\n",
       "</div>"
      ],
      "text/plain": [
       "    Sr. No.                State Name  Total Electric Vehicle  \\\n",
       "0         1  Andaman & Nicobar Island                       5   \n",
       "1         2             Andra Pradesh                      31   \n",
       "2         3         Arunachal Pradesh                       8   \n",
       "3         4                     Assam                      26   \n",
       "4         5                     Bihar                      29   \n",
       "5         6                Chandigarh                      14   \n",
       "6         7              Chhattisgarh                       9   \n",
       "7         8                     Delhi                       2   \n",
       "8         9                       Goa                      20   \n",
       "9        10                   Gujarat                      21   \n",
       "10       11                   Haryana                      19   \n",
       "11       12          Himachal Pradesh                       3   \n",
       "12       13         Jammu and Kashmir                      15   \n",
       "13       14                 Jharkhand                       6   \n",
       "14       15                 Karnataka                       1   \n",
       "15       16                    Kerala                      17   \n",
       "16       17                    Ladakh                      13   \n",
       "17       18               Lakshadweep                      31   \n",
       "18       19            Madhya Pradesh                      31   \n",
       "19       20               Maharashtra                       0   \n",
       "20       21                   Manipur                      25   \n",
       "21       22                 Meghalaya                      23   \n",
       "22       23                   Mizoram                      10   \n",
       "23       24                  Nagaland                      24   \n",
       "24       25                    Odisha                      12   \n",
       "25       26                Puducherry                      11   \n",
       "26       27                    Punjab                       4   \n",
       "27       28                 Rajasthan                      27   \n",
       "28       29                    Sikkim                      10   \n",
       "29       30                Tamil Nadu                      28   \n",
       "30       31                 Telangana                      31   \n",
       "31       32                   Tripura                      30   \n",
       "32       33          UT of DNH and DD                       7   \n",
       "33       34               Uttarakhand                      18   \n",
       "34       35             Uttar Pradesh                      16   \n",
       "35       36               West Bengal                      22   \n",
       "\n",
       "    Total Non-Electric Vehicle  Total  \n",
       "0                            4      4  \n",
       "1                           32     32  \n",
       "2                           12     12  \n",
       "3                           24     24  \n",
       "4                            0      0  \n",
       "5                           28     28  \n",
       "6                           27     27  \n",
       "7                           29     29  \n",
       "8                            7      7  \n",
       "9                           11     11  \n",
       "10                           1      1  \n",
       "11                          10     10  \n",
       "12                           9      9  \n",
       "13                          26     26  \n",
       "14                          13     13  \n",
       "15                           5      5  \n",
       "16                          20     20  \n",
       "17                          32     32  \n",
       "18                          32     32  \n",
       "19                          16     16  \n",
       "20                          23     23  \n",
       "21                          22     22  \n",
       "22                          17     17  \n",
       "23                          18     18  \n",
       "24                          31     31  \n",
       "25                           8      8  \n",
       "26                           2      2  \n",
       "27                           6      6  \n",
       "28                          30     30  \n",
       "29                          14     14  \n",
       "30                          32     32  \n",
       "31                          25     25  \n",
       "32                          15     15  \n",
       "33                          19     19  \n",
       "34                          21     21  \n",
       "35                           3      3  "
      ]
     },
     "execution_count": 251,
     "metadata": {},
     "output_type": "execute_result"
    }
   ],
   "source": [
    "Active_EV"
   ]
  },
  {
   "cell_type": "code",
   "execution_count": 252,
   "id": "5a22c804",
   "metadata": {},
   "outputs": [
    {
     "data": {
      "text/html": [
       "<div>\n",
       "<style scoped>\n",
       "    .dataframe tbody tr th:only-of-type {\n",
       "        vertical-align: middle;\n",
       "    }\n",
       "\n",
       "    .dataframe tbody tr th {\n",
       "        vertical-align: top;\n",
       "    }\n",
       "\n",
       "    .dataframe thead th {\n",
       "        text-align: right;\n",
       "    }\n",
       "</style>\n",
       "<table border=\"1\" class=\"dataframe\">\n",
       "  <thead>\n",
       "    <tr style=\"text-align: right;\">\n",
       "      <th></th>\n",
       "      <th>Sr. No.</th>\n",
       "      <th>State Name</th>\n",
       "      <th>Total Electric Vehicle</th>\n",
       "      <th>Total Non-Electric Vehicle</th>\n",
       "      <th>Total</th>\n",
       "    </tr>\n",
       "  </thead>\n",
       "  <tbody>\n",
       "    <tr>\n",
       "      <th>0</th>\n",
       "      <td>1</td>\n",
       "      <td>Andaman &amp; Nicobar Island</td>\n",
       "      <td>5</td>\n",
       "      <td>4</td>\n",
       "      <td>4</td>\n",
       "    </tr>\n",
       "    <tr>\n",
       "      <th>1</th>\n",
       "      <td>2</td>\n",
       "      <td>Andra Pradesh</td>\n",
       "      <td>31</td>\n",
       "      <td>32</td>\n",
       "      <td>32</td>\n",
       "    </tr>\n",
       "    <tr>\n",
       "      <th>2</th>\n",
       "      <td>3</td>\n",
       "      <td>Arunachal Pradesh</td>\n",
       "      <td>8</td>\n",
       "      <td>12</td>\n",
       "      <td>12</td>\n",
       "    </tr>\n",
       "    <tr>\n",
       "      <th>3</th>\n",
       "      <td>4</td>\n",
       "      <td>Assam</td>\n",
       "      <td>26</td>\n",
       "      <td>24</td>\n",
       "      <td>24</td>\n",
       "    </tr>\n",
       "    <tr>\n",
       "      <th>4</th>\n",
       "      <td>5</td>\n",
       "      <td>Bihar</td>\n",
       "      <td>29</td>\n",
       "      <td>0</td>\n",
       "      <td>0</td>\n",
       "    </tr>\n",
       "    <tr>\n",
       "      <th>5</th>\n",
       "      <td>6</td>\n",
       "      <td>Chandigarh</td>\n",
       "      <td>14</td>\n",
       "      <td>28</td>\n",
       "      <td>28</td>\n",
       "    </tr>\n",
       "    <tr>\n",
       "      <th>6</th>\n",
       "      <td>7</td>\n",
       "      <td>Chhattisgarh</td>\n",
       "      <td>9</td>\n",
       "      <td>27</td>\n",
       "      <td>27</td>\n",
       "    </tr>\n",
       "    <tr>\n",
       "      <th>7</th>\n",
       "      <td>8</td>\n",
       "      <td>Delhi</td>\n",
       "      <td>2</td>\n",
       "      <td>29</td>\n",
       "      <td>29</td>\n",
       "    </tr>\n",
       "    <tr>\n",
       "      <th>8</th>\n",
       "      <td>9</td>\n",
       "      <td>Goa</td>\n",
       "      <td>20</td>\n",
       "      <td>7</td>\n",
       "      <td>7</td>\n",
       "    </tr>\n",
       "    <tr>\n",
       "      <th>9</th>\n",
       "      <td>10</td>\n",
       "      <td>Gujarat</td>\n",
       "      <td>21</td>\n",
       "      <td>11</td>\n",
       "      <td>11</td>\n",
       "    </tr>\n",
       "    <tr>\n",
       "      <th>10</th>\n",
       "      <td>11</td>\n",
       "      <td>Haryana</td>\n",
       "      <td>19</td>\n",
       "      <td>1</td>\n",
       "      <td>1</td>\n",
       "    </tr>\n",
       "    <tr>\n",
       "      <th>11</th>\n",
       "      <td>12</td>\n",
       "      <td>Himachal Pradesh</td>\n",
       "      <td>3</td>\n",
       "      <td>10</td>\n",
       "      <td>10</td>\n",
       "    </tr>\n",
       "    <tr>\n",
       "      <th>12</th>\n",
       "      <td>13</td>\n",
       "      <td>Jammu and Kashmir</td>\n",
       "      <td>15</td>\n",
       "      <td>9</td>\n",
       "      <td>9</td>\n",
       "    </tr>\n",
       "    <tr>\n",
       "      <th>13</th>\n",
       "      <td>14</td>\n",
       "      <td>Jharkhand</td>\n",
       "      <td>6</td>\n",
       "      <td>26</td>\n",
       "      <td>26</td>\n",
       "    </tr>\n",
       "    <tr>\n",
       "      <th>14</th>\n",
       "      <td>15</td>\n",
       "      <td>Karnataka</td>\n",
       "      <td>1</td>\n",
       "      <td>13</td>\n",
       "      <td>13</td>\n",
       "    </tr>\n",
       "    <tr>\n",
       "      <th>15</th>\n",
       "      <td>16</td>\n",
       "      <td>Kerala</td>\n",
       "      <td>17</td>\n",
       "      <td>5</td>\n",
       "      <td>5</td>\n",
       "    </tr>\n",
       "    <tr>\n",
       "      <th>16</th>\n",
       "      <td>17</td>\n",
       "      <td>Ladakh</td>\n",
       "      <td>13</td>\n",
       "      <td>20</td>\n",
       "      <td>20</td>\n",
       "    </tr>\n",
       "    <tr>\n",
       "      <th>17</th>\n",
       "      <td>18</td>\n",
       "      <td>Lakshadweep</td>\n",
       "      <td>31</td>\n",
       "      <td>32</td>\n",
       "      <td>32</td>\n",
       "    </tr>\n",
       "    <tr>\n",
       "      <th>18</th>\n",
       "      <td>19</td>\n",
       "      <td>Madhya Pradesh</td>\n",
       "      <td>31</td>\n",
       "      <td>32</td>\n",
       "      <td>32</td>\n",
       "    </tr>\n",
       "    <tr>\n",
       "      <th>19</th>\n",
       "      <td>20</td>\n",
       "      <td>Maharashtra</td>\n",
       "      <td>0</td>\n",
       "      <td>16</td>\n",
       "      <td>16</td>\n",
       "    </tr>\n",
       "    <tr>\n",
       "      <th>20</th>\n",
       "      <td>21</td>\n",
       "      <td>Manipur</td>\n",
       "      <td>25</td>\n",
       "      <td>23</td>\n",
       "      <td>23</td>\n",
       "    </tr>\n",
       "    <tr>\n",
       "      <th>21</th>\n",
       "      <td>22</td>\n",
       "      <td>Meghalaya</td>\n",
       "      <td>23</td>\n",
       "      <td>22</td>\n",
       "      <td>22</td>\n",
       "    </tr>\n",
       "    <tr>\n",
       "      <th>22</th>\n",
       "      <td>23</td>\n",
       "      <td>Mizoram</td>\n",
       "      <td>10</td>\n",
       "      <td>17</td>\n",
       "      <td>17</td>\n",
       "    </tr>\n",
       "    <tr>\n",
       "      <th>23</th>\n",
       "      <td>24</td>\n",
       "      <td>Nagaland</td>\n",
       "      <td>24</td>\n",
       "      <td>18</td>\n",
       "      <td>18</td>\n",
       "    </tr>\n",
       "    <tr>\n",
       "      <th>24</th>\n",
       "      <td>25</td>\n",
       "      <td>Odisha</td>\n",
       "      <td>12</td>\n",
       "      <td>31</td>\n",
       "      <td>31</td>\n",
       "    </tr>\n",
       "    <tr>\n",
       "      <th>25</th>\n",
       "      <td>26</td>\n",
       "      <td>Puducherry</td>\n",
       "      <td>11</td>\n",
       "      <td>8</td>\n",
       "      <td>8</td>\n",
       "    </tr>\n",
       "    <tr>\n",
       "      <th>26</th>\n",
       "      <td>27</td>\n",
       "      <td>Punjab</td>\n",
       "      <td>4</td>\n",
       "      <td>2</td>\n",
       "      <td>2</td>\n",
       "    </tr>\n",
       "    <tr>\n",
       "      <th>27</th>\n",
       "      <td>28</td>\n",
       "      <td>Rajasthan</td>\n",
       "      <td>27</td>\n",
       "      <td>6</td>\n",
       "      <td>6</td>\n",
       "    </tr>\n",
       "    <tr>\n",
       "      <th>28</th>\n",
       "      <td>29</td>\n",
       "      <td>Sikkim</td>\n",
       "      <td>10</td>\n",
       "      <td>30</td>\n",
       "      <td>30</td>\n",
       "    </tr>\n",
       "    <tr>\n",
       "      <th>29</th>\n",
       "      <td>30</td>\n",
       "      <td>Tamil Nadu</td>\n",
       "      <td>28</td>\n",
       "      <td>14</td>\n",
       "      <td>14</td>\n",
       "    </tr>\n",
       "    <tr>\n",
       "      <th>30</th>\n",
       "      <td>31</td>\n",
       "      <td>Telangana</td>\n",
       "      <td>31</td>\n",
       "      <td>32</td>\n",
       "      <td>32</td>\n",
       "    </tr>\n",
       "    <tr>\n",
       "      <th>31</th>\n",
       "      <td>32</td>\n",
       "      <td>Tripura</td>\n",
       "      <td>30</td>\n",
       "      <td>25</td>\n",
       "      <td>25</td>\n",
       "    </tr>\n",
       "    <tr>\n",
       "      <th>32</th>\n",
       "      <td>33</td>\n",
       "      <td>UT of DNH and DD</td>\n",
       "      <td>7</td>\n",
       "      <td>15</td>\n",
       "      <td>15</td>\n",
       "    </tr>\n",
       "    <tr>\n",
       "      <th>33</th>\n",
       "      <td>34</td>\n",
       "      <td>Uttarakhand</td>\n",
       "      <td>18</td>\n",
       "      <td>19</td>\n",
       "      <td>19</td>\n",
       "    </tr>\n",
       "    <tr>\n",
       "      <th>34</th>\n",
       "      <td>35</td>\n",
       "      <td>Uttar Pradesh</td>\n",
       "      <td>16</td>\n",
       "      <td>21</td>\n",
       "      <td>21</td>\n",
       "    </tr>\n",
       "    <tr>\n",
       "      <th>35</th>\n",
       "      <td>36</td>\n",
       "      <td>West Bengal</td>\n",
       "      <td>22</td>\n",
       "      <td>3</td>\n",
       "      <td>3</td>\n",
       "    </tr>\n",
       "  </tbody>\n",
       "</table>\n",
       "</div>"
      ],
      "text/plain": [
       "    Sr. No.                State Name  Total Electric Vehicle  \\\n",
       "0         1  Andaman & Nicobar Island                       5   \n",
       "1         2             Andra Pradesh                      31   \n",
       "2         3         Arunachal Pradesh                       8   \n",
       "3         4                     Assam                      26   \n",
       "4         5                     Bihar                      29   \n",
       "5         6                Chandigarh                      14   \n",
       "6         7              Chhattisgarh                       9   \n",
       "7         8                     Delhi                       2   \n",
       "8         9                       Goa                      20   \n",
       "9        10                   Gujarat                      21   \n",
       "10       11                   Haryana                      19   \n",
       "11       12          Himachal Pradesh                       3   \n",
       "12       13         Jammu and Kashmir                      15   \n",
       "13       14                 Jharkhand                       6   \n",
       "14       15                 Karnataka                       1   \n",
       "15       16                    Kerala                      17   \n",
       "16       17                    Ladakh                      13   \n",
       "17       18               Lakshadweep                      31   \n",
       "18       19            Madhya Pradesh                      31   \n",
       "19       20               Maharashtra                       0   \n",
       "20       21                   Manipur                      25   \n",
       "21       22                 Meghalaya                      23   \n",
       "22       23                   Mizoram                      10   \n",
       "23       24                  Nagaland                      24   \n",
       "24       25                    Odisha                      12   \n",
       "25       26                Puducherry                      11   \n",
       "26       27                    Punjab                       4   \n",
       "27       28                 Rajasthan                      27   \n",
       "28       29                    Sikkim                      10   \n",
       "29       30                Tamil Nadu                      28   \n",
       "30       31                 Telangana                      31   \n",
       "31       32                   Tripura                      30   \n",
       "32       33          UT of DNH and DD                       7   \n",
       "33       34               Uttarakhand                      18   \n",
       "34       35             Uttar Pradesh                      16   \n",
       "35       36               West Bengal                      22   \n",
       "\n",
       "    Total Non-Electric Vehicle  Total  \n",
       "0                            4      4  \n",
       "1                           32     32  \n",
       "2                           12     12  \n",
       "3                           24     24  \n",
       "4                            0      0  \n",
       "5                           28     28  \n",
       "6                           27     27  \n",
       "7                           29     29  \n",
       "8                            7      7  \n",
       "9                           11     11  \n",
       "10                           1      1  \n",
       "11                          10     10  \n",
       "12                           9      9  \n",
       "13                          26     26  \n",
       "14                          13     13  \n",
       "15                           5      5  \n",
       "16                          20     20  \n",
       "17                          32     32  \n",
       "18                          32     32  \n",
       "19                          16     16  \n",
       "20                          23     23  \n",
       "21                          22     22  \n",
       "22                          17     17  \n",
       "23                          18     18  \n",
       "24                          31     31  \n",
       "25                           8      8  \n",
       "26                           2      2  \n",
       "27                           6      6  \n",
       "28                          30     30  \n",
       "29                          14     14  \n",
       "30                          32     32  \n",
       "31                          25     25  \n",
       "32                          15     15  \n",
       "33                          19     19  \n",
       "34                          21     21  \n",
       "35                           3      3  "
      ]
     },
     "execution_count": 252,
     "metadata": {},
     "output_type": "execute_result"
    }
   ],
   "source": [
    "Active_EV.dropna(axis=\"rows\", how=\"any\", inplace=True)\n",
    "Active_EV"
   ]
  },
  {
   "cell_type": "code",
   "execution_count": 253,
   "id": "80cbdcbb",
   "metadata": {},
   "outputs": [
    {
     "data": {
      "text/plain": [
       "Sr. No.                       0\n",
       "State Name                    0\n",
       "Total Electric Vehicle        0\n",
       "Total Non-Electric Vehicle    0\n",
       "Total                         0\n",
       "dtype: int64"
      ]
     },
     "execution_count": 253,
     "metadata": {},
     "output_type": "execute_result"
    }
   ],
   "source": [
    "Active_EV.isnull().sum()"
   ]
  },
  {
   "cell_type": "code",
   "execution_count": 254,
   "id": "7f2852a6",
   "metadata": {},
   "outputs": [
    {
     "data": {
      "image/png": "[encoded data removed]",
      "text/plain": [
       "<Figure size 1440x720 with 1 Axes>"
      ]
     },
     "metadata": {
      "needs_background": "light"
     },
     "output_type": "display_data"
    },
    {
     "data": {
      "image/png": "[encoded data removed]",
      "text/plain": [
       "<Figure size 1440x720 with 1 Axes>"
      ]
     },
     "metadata": {
      "needs_background": "light"
     },
     "output_type": "display_data"
    }
   ],
   "source": [
    "plt.rcParams['figure.figsize'] = (20, 10)\n",
    "f = sns.barplot(y=Active_EVs['State Name'], x=Active_EV['Total'])\n",
    "plt.title('State wise active vehicle')\n",
    "plt.show()\n",
    "\n",
    "\n",
    "plt.rcParams['figure.figsize'] = (20, 10)\n",
    "f = sns.barplot(y=Active_EV['State Name'], x=Active_EV['Total Electric Vehicle'])\n",
    "plt.title('State wise active vehicle')\n",
    "plt.show()"
   ]
  },
  {
   "cell_type": "code",
   "execution_count": 256,
   "id": "8788ea9b",
   "metadata": {},
   "outputs": [
    {
     "data": {
      "text/plain": [
       "Text(0.5, 1.0, 'Total Active Vehecles Vs Total active EVs')"
      ]
     },
     "execution_count": 256,
     "metadata": {},
     "output_type": "execute_result"
    },
    {
     "data": {
      "image/png": "[encoded data removed]",
      "text/plain": [
       "<Figure size 529.375x360 with 1 Axes>"
      ]
     },
     "metadata": {
      "needs_background": "light"
     },
     "output_type": "display_data"
    },
    {
     "data": {
      "image/png": "[encoded data removed]",
      "text/plain": [
       "<Figure size 360x360 with 1 Axes>"
      ]
     },
     "metadata": {
      "needs_background": "light"
     },
     "output_type": "display_data"
    }
   ],
   "source": [
    "sns.lmplot(data=Active_EV, y=\"Total Electric Vehicle\", x=\"Total\", hue='State Name')\n",
    "plt.title('Total Active Vehecles Vs Total active EVs')\n",
    "\n",
    "sns.lmplot(data=Active_EV, y=\"Total Electric Vehicle\", x=\"Total\")\n",
    "plt.title('Total Active Vehecles Vs Total active EVs')"
   ]
  },
  {
   "cell_type": "markdown",
   "id": "5e6a9e85",
   "metadata": {},
   "source": [
    "### Analysis on Highway wise charging station "
   ]
  },
  {
   "cell_type": "code",
   "execution_count": 261,
   "id": "38a0ea00",
   "metadata": {
    "scrolled": true
   },
   "outputs": [
    {
     "data": {
      "text/html": [
       "<div>\n",
       "<style scoped>\n",
       "    .dataframe tbody tr th:only-of-type {\n",
       "        vertical-align: middle;\n",
       "    }\n",
       "\n",
       "    .dataframe tbody tr th {\n",
       "        vertical-align: top;\n",
       "    }\n",
       "\n",
       "    .dataframe thead th {\n",
       "        text-align: right;\n",
       "    }\n",
       "</style>\n",
       "<table border=\"1\" class=\"dataframe\">\n",
       "  <thead>\n",
       "    <tr style=\"text-align: right;\">\n",
       "      <th></th>\n",
       "      <th>Category</th>\n",
       "      <th>Expressways/Highways</th>\n",
       "      <th>EV Charging Stations Sanctioned</th>\n",
       "    </tr>\n",
       "  </thead>\n",
       "  <tbody>\n",
       "    <tr>\n",
       "      <th>0</th>\n",
       "      <td>Expressways</td>\n",
       "      <td>Mumbai - Pune</td>\n",
       "      <td>10</td>\n",
       "    </tr>\n",
       "    <tr>\n",
       "      <th>1</th>\n",
       "      <td>Expressways</td>\n",
       "      <td>Ahmadabad - Vadodara</td>\n",
       "      <td>10</td>\n",
       "    </tr>\n",
       "    <tr>\n",
       "      <th>2</th>\n",
       "      <td>Expressways</td>\n",
       "      <td>Delhi Agra Yamuna</td>\n",
       "      <td>20</td>\n",
       "    </tr>\n",
       "    <tr>\n",
       "      <th>3</th>\n",
       "      <td>Expressways</td>\n",
       "      <td>Bengaluru Mysore</td>\n",
       "      <td>14</td>\n",
       "    </tr>\n",
       "    <tr>\n",
       "      <th>4</th>\n",
       "      <td>Expressways</td>\n",
       "      <td>Bangaluru-Chennai</td>\n",
       "      <td>30</td>\n",
       "    </tr>\n",
       "  </tbody>\n",
       "</table>\n",
       "</div>"
      ],
      "text/plain": [
       "      Category  Expressways/Highways  EV Charging Stations Sanctioned\n",
       "0  Expressways         Mumbai - Pune                               10\n",
       "1  Expressways  Ahmadabad - Vadodara                               10\n",
       "2  Expressways     Delhi Agra Yamuna                               20\n",
       "3  Expressways      Bengaluru Mysore                               14\n",
       "4  Expressways     Bangaluru-Chennai                               30"
      ]
     },
     "execution_count": 261,
     "metadata": {},
     "output_type": "execute_result"
    }
   ],
   "source": [
    "Highwise_df= pd.read_csv(r\"C:\\Users\\soora\\Downloads\\Highway charging Stations.csv\",encoding='cp1252')\n",
    "Highwise_df.head()"
   ]
  },
  {
   "cell_type": "code",
   "execution_count": 262,
   "id": "5c4cca42",
   "metadata": {},
   "outputs": [
    {
     "data": {
      "text/html": [
       "<div>\n",
       "<style scoped>\n",
       "    .dataframe tbody tr th:only-of-type {\n",
       "        vertical-align: middle;\n",
       "    }\n",
       "\n",
       "    .dataframe tbody tr th {\n",
       "        vertical-align: top;\n",
       "    }\n",
       "\n",
       "    .dataframe thead th {\n",
       "        text-align: right;\n",
       "    }\n",
       "</style>\n",
       "<table border=\"1\" class=\"dataframe\">\n",
       "  <thead>\n",
       "    <tr style=\"text-align: right;\">\n",
       "      <th></th>\n",
       "      <th>Category</th>\n",
       "      <th>Expressways/Highways</th>\n",
       "      <th>EV Charging Stations Sanctioned</th>\n",
       "    </tr>\n",
       "  </thead>\n",
       "  <tbody>\n",
       "    <tr>\n",
       "      <th>21</th>\n",
       "      <td>Highways</td>\n",
       "      <td>Chennai - Trivendram</td>\n",
       "      <td>74</td>\n",
       "    </tr>\n",
       "    <tr>\n",
       "      <th>22</th>\n",
       "      <td>Highways</td>\n",
       "      <td>Chennai-Ballary</td>\n",
       "      <td>62</td>\n",
       "    </tr>\n",
       "    <tr>\n",
       "      <th>23</th>\n",
       "      <td>Highways</td>\n",
       "      <td>Chennai - Nagpur</td>\n",
       "      <td>114</td>\n",
       "    </tr>\n",
       "    <tr>\n",
       "      <th>24</th>\n",
       "      <td>Highways</td>\n",
       "      <td>Mangaldai - Wakro</td>\n",
       "      <td>64</td>\n",
       "    </tr>\n",
       "    <tr>\n",
       "      <th>25</th>\n",
       "      <td>Total</td>\n",
       "      <td>Total</td>\n",
       "      <td>1576</td>\n",
       "    </tr>\n",
       "  </tbody>\n",
       "</table>\n",
       "</div>"
      ],
      "text/plain": [
       "    Category  Expressways/Highways  EV Charging Stations Sanctioned\n",
       "21  Highways  Chennai - Trivendram                               74\n",
       "22  Highways       Chennai-Ballary                               62\n",
       "23  Highways      Chennai - Nagpur                              114\n",
       "24  Highways     Mangaldai - Wakro                               64\n",
       "25     Total                 Total                             1576"
      ]
     },
     "execution_count": 262,
     "metadata": {},
     "output_type": "execute_result"
    }
   ],
   "source": [
    "Highwise_df.tail()"
   ]
  },
  {
   "cell_type": "code",
   "execution_count": 264,
   "id": "ed6fe60c",
   "metadata": {},
   "outputs": [
    {
     "data": {
      "text/html": [
       "<div>\n",
       "<style scoped>\n",
       "    .dataframe tbody tr th:only-of-type {\n",
       "        vertical-align: middle;\n",
       "    }\n",
       "\n",
       "    .dataframe tbody tr th {\n",
       "        vertical-align: top;\n",
       "    }\n",
       "\n",
       "    .dataframe thead th {\n",
       "        text-align: right;\n",
       "    }\n",
       "</style>\n",
       "<table border=\"1\" class=\"dataframe\">\n",
       "  <thead>\n",
       "    <tr style=\"text-align: right;\">\n",
       "      <th></th>\n",
       "      <th>Category</th>\n",
       "      <th>Expressways/Highways</th>\n",
       "      <th>EV Charging Stations Sanctioned</th>\n",
       "    </tr>\n",
       "  </thead>\n",
       "  <tbody>\n",
       "    <tr>\n",
       "      <th>20</th>\n",
       "      <td>Highways</td>\n",
       "      <td>Chennai-Bhubaneswar</td>\n",
       "      <td>120</td>\n",
       "    </tr>\n",
       "    <tr>\n",
       "      <th>21</th>\n",
       "      <td>Highways</td>\n",
       "      <td>Chennai - Trivendram</td>\n",
       "      <td>74</td>\n",
       "    </tr>\n",
       "    <tr>\n",
       "      <th>22</th>\n",
       "      <td>Highways</td>\n",
       "      <td>Chennai-Ballary</td>\n",
       "      <td>62</td>\n",
       "    </tr>\n",
       "    <tr>\n",
       "      <th>23</th>\n",
       "      <td>Highways</td>\n",
       "      <td>Chennai - Nagpur</td>\n",
       "      <td>114</td>\n",
       "    </tr>\n",
       "    <tr>\n",
       "      <th>24</th>\n",
       "      <td>Highways</td>\n",
       "      <td>Mangaldai - Wakro</td>\n",
       "      <td>64</td>\n",
       "    </tr>\n",
       "  </tbody>\n",
       "</table>\n",
       "</div>"
      ],
      "text/plain": [
       "    Category  Expressways/Highways  EV Charging Stations Sanctioned\n",
       "20  Highways   Chennai-Bhubaneswar                              120\n",
       "21  Highways  Chennai - Trivendram                               74\n",
       "22  Highways       Chennai-Ballary                               62\n",
       "23  Highways      Chennai - Nagpur                              114\n",
       "24  Highways     Mangaldai - Wakro                               64"
      ]
     },
     "execution_count": 264,
     "metadata": {},
     "output_type": "execute_result"
    }
   ],
   "source": [
    "Highwise_df.drop(Highwise_df.index[25], inplace= True)\n",
    "Highwise_df.tail()"
   ]
  },
  {
   "cell_type": "code",
   "execution_count": 265,
   "id": "42e7b179",
   "metadata": {},
   "outputs": [
    {
     "data": {
      "text/plain": [
       "Category                           0\n",
       "Expressways/Highways               0\n",
       "EV Charging Stations Sanctioned    0\n",
       "dtype: int64"
      ]
     },
     "execution_count": 265,
     "metadata": {},
     "output_type": "execute_result"
    }
   ],
   "source": [
    "Highwise_df.isnull().sum()"
   ]
  },
  {
   "cell_type": "code",
   "execution_count": 267,
   "id": "eb3bb5ae",
   "metadata": {},
   "outputs": [
    {
     "data": {
      "text/plain": [
       "<AxesSubplot:xlabel='EV Charging Stations Sanctioned', ylabel='Expressways/Highways'>"
      ]
     },
     "execution_count": 267,
     "metadata": {},
     "output_type": "execute_result"
    },
    {
     "data": {
      "image/png": "[encoded data removed]",
      "text/plain": [
       "<Figure size 1440x720 with 1 Axes>"
      ]
     },
     "metadata": {
      "needs_background": "light"
     },
     "output_type": "display_data"
    }
   ],
   "source": [
    "sns.barplot(x=Highwise_df[\"EV Charging Stations Sanctioned\"], y=Highwise_df['Expressways/Highways'] , hue=Highwise_df[\"Category\"])"
   ]
  },
  {
   "cell_type": "markdown",
   "id": "71e93480",
   "metadata": {},
   "source": [
    "### Demographic segments\n",
    "-Age\n",
    "Target Age group of 28-31\n",
    "\n",
    "-Income\n",
    "Target who earn Rs. 20,64,995 to Rs. 28,12,149 per year.\n",
    "\n",
    "-Education\n",
    "Target Graduates."
   ]
  },
  {
   "cell_type": "markdown",
   "id": "3d50aa37",
   "metadata": {},
   "source": [
    "### Geographic segments\n",
    "- Location\n",
    "Pune, Mumbai, New Delhi, Bengaluru Considering based on Segmentation Analysis and the Infrastructres sanctioned by Govt."
   ]
  },
  {
   "cell_type": "markdown",
   "id": "5141f248",
   "metadata": {},
   "source": [
    "### Psychographic segments\n",
    "-Lifestyle\n",
    "Target Single Marital Status, Family with 3-5 members"
   ]
  },
  {
   "cell_type": "code",
   "execution_count": null,
   "id": "7bae2c1b",
   "metadata": {},
   "outputs": [],
   "source": []
  }
 ],
 "metadata": {
  "kernelspec": {
   "display_name": "Python 3 (ipykernel)",
   "language": "python",
   "name": "python3"
  },
  "language_info": {
   "codemirror_mode": {
    "name": "ipython",
    "version": 3
   },
   "file_extension": ".py",
   "mimetype": "text/x-python",
   "name": "python",
   "nbconvert_exporter": "python",
   "pygments_lexer": "ipython3",
   "version": "3.9.12"
  }
 },
 "nbformat": 4,
 "nbformat_minor": 5
}
